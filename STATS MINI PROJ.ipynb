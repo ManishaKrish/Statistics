{
 "cells": [
  {
   "cell_type": "markdown",
   "id": "67e4a9b9",
   "metadata": {},
   "source": [
    "# STATS  MINI PROJECT"
   ]
  },
  {
   "cell_type": "code",
   "execution_count": 1,
   "id": "fab0d15a",
   "metadata": {},
   "outputs": [],
   "source": [
    "#importing libraries\n",
    "import numpy as np\n",
    "import pandas as pd\n",
    "import matplotlib.pyplot as plt\n",
    "import seaborn as sb\n",
    "import scipy.stats as stats"
   ]
  },
  {
   "cell_type": "markdown",
   "id": "c20d20b2",
   "metadata": {},
   "source": [
    "1. Perform the following statistical analysis on the fifa world cup dataset. The dataset consists of player information which includes height, weight overall rating, potential etc. Data Cleaning and basic EDA process needs to be performed. "
   ]
  },
  {
   "cell_type": "code",
   "execution_count": 2,
   "id": "a2646b6d",
   "metadata": {},
   "outputs": [
    {
     "data": {
      "text/html": [
       "<div>\n",
       "<style scoped>\n",
       "    .dataframe tbody tr th:only-of-type {\n",
       "        vertical-align: middle;\n",
       "    }\n",
       "\n",
       "    .dataframe tbody tr th {\n",
       "        vertical-align: top;\n",
       "    }\n",
       "\n",
       "    .dataframe thead th {\n",
       "        text-align: right;\n",
       "    }\n",
       "</style>\n",
       "<table border=\"1\" class=\"dataframe\">\n",
       "  <thead>\n",
       "    <tr style=\"text-align: right;\">\n",
       "      <th></th>\n",
       "      <th>Name</th>\n",
       "      <th>Age</th>\n",
       "      <th>Nationality</th>\n",
       "      <th>Overall_rating</th>\n",
       "      <th>Potential</th>\n",
       "      <th>Club</th>\n",
       "      <th>Preferred Foot</th>\n",
       "      <th>International Reputation</th>\n",
       "      <th>Weak Foot</th>\n",
       "      <th>Skill Moves</th>\n",
       "      <th>Work Rate</th>\n",
       "      <th>Position</th>\n",
       "      <th>Jersey Number</th>\n",
       "      <th>Height</th>\n",
       "      <th>Weight</th>\n",
       "    </tr>\n",
       "  </thead>\n",
       "  <tbody>\n",
       "    <tr>\n",
       "      <th>0</th>\n",
       "      <td>L. Messi</td>\n",
       "      <td>31</td>\n",
       "      <td>Argentina</td>\n",
       "      <td>94</td>\n",
       "      <td>94</td>\n",
       "      <td>FC Barcelona</td>\n",
       "      <td>Left</td>\n",
       "      <td>5</td>\n",
       "      <td>4</td>\n",
       "      <td>4</td>\n",
       "      <td>Medium/ Medium</td>\n",
       "      <td>RF</td>\n",
       "      <td>10</td>\n",
       "      <td>5.583333</td>\n",
       "      <td>159</td>\n",
       "    </tr>\n",
       "    <tr>\n",
       "      <th>1</th>\n",
       "      <td>Cristiano Ronaldo</td>\n",
       "      <td>33</td>\n",
       "      <td>Portugal</td>\n",
       "      <td>94</td>\n",
       "      <td>94</td>\n",
       "      <td>Juventus</td>\n",
       "      <td>Right</td>\n",
       "      <td>5</td>\n",
       "      <td>4</td>\n",
       "      <td>5</td>\n",
       "      <td>High/ Low</td>\n",
       "      <td>ST</td>\n",
       "      <td>7</td>\n",
       "      <td>6.166667</td>\n",
       "      <td>183</td>\n",
       "    </tr>\n",
       "    <tr>\n",
       "      <th>2</th>\n",
       "      <td>Neymar Jr</td>\n",
       "      <td>26</td>\n",
       "      <td>Brazil</td>\n",
       "      <td>92</td>\n",
       "      <td>93</td>\n",
       "      <td>Paris Saint-Germain</td>\n",
       "      <td>Right</td>\n",
       "      <td>5</td>\n",
       "      <td>5</td>\n",
       "      <td>5</td>\n",
       "      <td>High/ Medium</td>\n",
       "      <td>LW</td>\n",
       "      <td>10</td>\n",
       "      <td>5.750000</td>\n",
       "      <td>150</td>\n",
       "    </tr>\n",
       "    <tr>\n",
       "      <th>3</th>\n",
       "      <td>De Gea</td>\n",
       "      <td>27</td>\n",
       "      <td>Spain</td>\n",
       "      <td>91</td>\n",
       "      <td>93</td>\n",
       "      <td>Manchester United</td>\n",
       "      <td>Right</td>\n",
       "      <td>4</td>\n",
       "      <td>3</td>\n",
       "      <td>1</td>\n",
       "      <td>Medium/ Medium</td>\n",
       "      <td>GK</td>\n",
       "      <td>1</td>\n",
       "      <td>6.333333</td>\n",
       "      <td>168</td>\n",
       "    </tr>\n",
       "    <tr>\n",
       "      <th>4</th>\n",
       "      <td>K. De Bruyne</td>\n",
       "      <td>27</td>\n",
       "      <td>Belgium</td>\n",
       "      <td>91</td>\n",
       "      <td>92</td>\n",
       "      <td>Manchester City</td>\n",
       "      <td>Right</td>\n",
       "      <td>4</td>\n",
       "      <td>5</td>\n",
       "      <td>4</td>\n",
       "      <td>High/ High</td>\n",
       "      <td>RCM</td>\n",
       "      <td>7</td>\n",
       "      <td>5.083333</td>\n",
       "      <td>154</td>\n",
       "    </tr>\n",
       "  </tbody>\n",
       "</table>\n",
       "</div>"
      ],
      "text/plain": [
       "                Name  Age Nationality  Overall_rating  Potential  \\\n",
       "0           L. Messi   31   Argentina              94         94   \n",
       "1  Cristiano Ronaldo   33    Portugal              94         94   \n",
       "2          Neymar Jr   26      Brazil              92         93   \n",
       "3             De Gea   27       Spain              91         93   \n",
       "4       K. De Bruyne   27     Belgium              91         92   \n",
       "\n",
       "                  Club Preferred Foot  International Reputation  Weak Foot  \\\n",
       "0         FC Barcelona           Left                         5          4   \n",
       "1             Juventus          Right                         5          4   \n",
       "2  Paris Saint-Germain          Right                         5          5   \n",
       "3    Manchester United          Right                         4          3   \n",
       "4      Manchester City          Right                         4          5   \n",
       "\n",
       "   Skill Moves       Work Rate Position  Jersey Number    Height  Weight  \n",
       "0            4  Medium/ Medium       RF             10  5.583333     159  \n",
       "1            5       High/ Low       ST              7  6.166667     183  \n",
       "2            5    High/ Medium       LW             10  5.750000     150  \n",
       "3            1  Medium/ Medium       GK              1  6.333333     168  \n",
       "4            4      High/ High      RCM              7  5.083333     154  "
      ]
     },
     "execution_count": 2,
     "metadata": {},
     "output_type": "execute_result"
    }
   ],
   "source": [
    "#importing datasets\n",
    "data=pd.read_csv('fifa_stats.csv')\n",
    "data.head()"
   ]
  },
  {
   "cell_type": "code",
   "execution_count": 3,
   "id": "37031d39",
   "metadata": {},
   "outputs": [],
   "source": [
    "data_num=data.select_dtypes(include=np.number)"
   ]
  },
  {
   "cell_type": "code",
   "execution_count": 4,
   "id": "bcba2bd9",
   "metadata": {},
   "outputs": [
    {
     "name": "stdout",
     "output_type": "stream",
     "text": [
      "the number of outliers in Age is 4\n",
      "the number of outliers in Overall_rating is 55\n",
      "the number of outliers in Potential is 8\n",
      "the number of outliers in International Reputation is 57\n",
      "the number of outliers in Weak Foot is 10\n",
      "the number of outliers in Skill Moves is 0\n",
      "the number of outliers in Jersey Number is 63\n",
      "the number of outliers in Height is 0\n",
      "the number of outliers in Weight is 8\n"
     ]
    }
   ],
   "source": [
    "for i in data_num.columns:\n",
    "    iqr=data_num[i].quantile(0.75)-data_num[i].quantile(0.25)\n",
    "    ##print(\"inter_quartile_range is\")\n",
    "    upper_bound=data_num[i].quantile(0.75)+1.5*iqr\n",
    "    lower_bound=data_num[i].quantile(0.25)-1.5*iqr\n",
    "    ##print(\"ub is:\",upper_bound)\n",
    "    ##print(\"lb is:\",lower_bound)\n",
    "    print(\"the number of outliers in\",i,\"is\",len(data_num[((data_num[i]>upper_bound) |(data_num[i]<lower_bound))]))"
   ]
  },
  {
   "cell_type": "code",
   "execution_count": 5,
   "id": "01e34cc7",
   "metadata": {},
   "outputs": [
    {
     "name": "stderr",
     "output_type": "stream",
     "text": [
      "C:\\Users\\G Jaya Surya\\anaconda3\\lib\\site-packages\\pandas\\core\\indexing.py:1765: SettingWithCopyWarning: \n",
      "A value is trying to be set on a copy of a slice from a DataFrame.\n",
      "Try using .loc[row_indexer,col_indexer] = value instead\n",
      "\n",
      "See the caveats in the documentation: https://pandas.pydata.org/pandas-docs/stable/user_guide/indexing.html#returning-a-view-versus-a-copy\n",
      "  isetter(loc, value)\n"
     ]
    }
   ],
   "source": [
    "for i in data_num.columns:\n",
    "    iqr=data_num[i].quantile(0.75)-data_num[i].quantile(0.25)\n",
    "    upper_bound=data_num[i].quantile(0.75)+1.5*iqr\n",
    "    lower_bound=data_num[i].quantile(0.25)-1.5*iqr\n",
    "    uc=data_num[i].quantile(0.99)\n",
    "    lc=data_num[i].quantile(0.1)\n",
    "    for j in data_num[i].index:\n",
    "        if data_num.loc[j,i]>upper_bound:    ## use to remove outliers\n",
    "            data_num.loc[j,i]=uc\n",
    "        if data_num.loc[j,i]<lower_bound:\n",
    "            data_num.loc[j,i]=lc\n",
    "            "
   ]
  },
  {
   "cell_type": "code",
   "execution_count": 6,
   "id": "54d8c3ab",
   "metadata": {},
   "outputs": [
    {
     "name": "stderr",
     "output_type": "stream",
     "text": [
      "C:\\Users\\G Jaya Surya\\anaconda3\\lib\\site-packages\\seaborn\\_decorators.py:36: FutureWarning: Pass the following variable as a keyword arg: x. From version 0.12, the only valid positional argument will be `data`, and passing other arguments without an explicit keyword will result in an error or misinterpretation.\n",
      "  warnings.warn(\n"
     ]
    },
    {
     "data": {
      "image/png": "[encoded data removed]",
      "text/plain": [
       "<Figure size 432x288 with 1 Axes>"
      ]
     },
     "metadata": {
      "needs_background": "light"
     },
     "output_type": "display_data"
    },
    {
     "name": "stderr",
     "output_type": "stream",
     "text": [
      "C:\\Users\\G Jaya Surya\\anaconda3\\lib\\site-packages\\seaborn\\_decorators.py:36: FutureWarning: Pass the following variable as a keyword arg: x. From version 0.12, the only valid positional argument will be `data`, and passing other arguments without an explicit keyword will result in an error or misinterpretation.\n",
      "  warnings.warn(\n"
     ]
    },
    {
     "data": {
      "image/png": "[encoded data removed]",
      "text/plain": [
       "<Figure size 432x288 with 1 Axes>"
      ]
     },
     "metadata": {
      "needs_background": "light"
     },
     "output_type": "display_data"
    },
    {
     "name": "stderr",
     "output_type": "stream",
     "text": [
      "C:\\Users\\G Jaya Surya\\anaconda3\\lib\\site-packages\\seaborn\\_decorators.py:36: FutureWarning: Pass the following variable as a keyword arg: x. From version 0.12, the only valid positional argument will be `data`, and passing other arguments without an explicit keyword will result in an error or misinterpretation.\n",
      "  warnings.warn(\n"
     ]
    },
    {
     "data": {
      "image/png": "[encoded data removed]",
      "text/plain": [
       "<Figure size 432x288 with 1 Axes>"
      ]
     },
     "metadata": {
      "needs_background": "light"
     },
     "output_type": "display_data"
    },
    {
     "name": "stderr",
     "output_type": "stream",
     "text": [
      "C:\\Users\\G Jaya Surya\\anaconda3\\lib\\site-packages\\seaborn\\_decorators.py:36: FutureWarning: Pass the following variable as a keyword arg: x. From version 0.12, the only valid positional argument will be `data`, and passing other arguments without an explicit keyword will result in an error or misinterpretation.\n",
      "  warnings.warn(\n"
     ]
    },
    {
     "data": {
      "image/png": "[encoded data removed]",
      "text/plain": [
       "<Figure size 432x288 with 1 Axes>"
      ]
     },
     "metadata": {
      "needs_background": "light"
     },
     "output_type": "display_data"
    },
    {
     "name": "stderr",
     "output_type": "stream",
     "text": [
      "C:\\Users\\G Jaya Surya\\anaconda3\\lib\\site-packages\\seaborn\\_decorators.py:36: FutureWarning: Pass the following variable as a keyword arg: x. From version 0.12, the only valid positional argument will be `data`, and passing other arguments without an explicit keyword will result in an error or misinterpretation.\n",
      "  warnings.warn(\n"
     ]
    },
    {
     "data": {
      "image/png": "[encoded data removed]",
      "text/plain": [
       "<Figure size 432x288 with 1 Axes>"
      ]
     },
     "metadata": {
      "needs_background": "light"
     },
     "output_type": "display_data"
    },
    {
     "name": "stderr",
     "output_type": "stream",
     "text": [
      "C:\\Users\\G Jaya Surya\\anaconda3\\lib\\site-packages\\seaborn\\_decorators.py:36: FutureWarning: Pass the following variable as a keyword arg: x. From version 0.12, the only valid positional argument will be `data`, and passing other arguments without an explicit keyword will result in an error or misinterpretation.\n",
      "  warnings.warn(\n"
     ]
    },
    {
     "data": {
      "image/png": "[encoded data removed]",
      "text/plain": [
       "<Figure size 432x288 with 1 Axes>"
      ]
     },
     "metadata": {
      "needs_background": "light"
     },
     "output_type": "display_data"
    },
    {
     "name": "stderr",
     "output_type": "stream",
     "text": [
      "C:\\Users\\G Jaya Surya\\anaconda3\\lib\\site-packages\\seaborn\\_decorators.py:36: FutureWarning: Pass the following variable as a keyword arg: x. From version 0.12, the only valid positional argument will be `data`, and passing other arguments without an explicit keyword will result in an error or misinterpretation.\n",
      "  warnings.warn(\n"
     ]
    },
    {
     "data": {
      "image/png": "[encoded data removed]",
      "text/plain": [
       "<Figure size 432x288 with 1 Axes>"
      ]
     },
     "metadata": {
      "needs_background": "light"
     },
     "output_type": "display_data"
    },
    {
     "name": "stderr",
     "output_type": "stream",
     "text": [
      "C:\\Users\\G Jaya Surya\\anaconda3\\lib\\site-packages\\seaborn\\_decorators.py:36: FutureWarning: Pass the following variable as a keyword arg: x. From version 0.12, the only valid positional argument will be `data`, and passing other arguments without an explicit keyword will result in an error or misinterpretation.\n",
      "  warnings.warn(\n"
     ]
    },
    {
     "data": {
      "image/png": "[encoded data removed]",
      "text/plain": [
       "<Figure size 432x288 with 1 Axes>"
      ]
     },
     "metadata": {
      "needs_background": "light"
     },
     "output_type": "display_data"
    },
    {
     "name": "stderr",
     "output_type": "stream",
     "text": [
      "C:\\Users\\G Jaya Surya\\anaconda3\\lib\\site-packages\\seaborn\\_decorators.py:36: FutureWarning: Pass the following variable as a keyword arg: x. From version 0.12, the only valid positional argument will be `data`, and passing other arguments without an explicit keyword will result in an error or misinterpretation.\n",
      "  warnings.warn(\n"
     ]
    },
    {
     "data": {
      "image/png": "[encoded data removed]",
      "text/plain": [
       "<Figure size 432x288 with 1 Axes>"
      ]
     },
     "metadata": {
      "needs_background": "light"
     },
     "output_type": "display_data"
    }
   ],
   "source": [
    "for i in data_num.columns:\n",
    "    sb.boxplot(data_num[i])\n",
    "    plt.show()"
   ]
  },
  {
   "cell_type": "code",
   "execution_count": 7,
   "id": "8fec5f82",
   "metadata": {},
   "outputs": [
    {
     "data": {
      "text/plain": [
       "Name                        0\n",
       "Age                         0\n",
       "Nationality                 0\n",
       "Overall_rating              0\n",
       "Potential                   0\n",
       "Club                        0\n",
       "Preferred Foot              0\n",
       "International Reputation    0\n",
       "Weak Foot                   0\n",
       "Skill Moves                 0\n",
       "Work Rate                   0\n",
       "Position                    0\n",
       "Jersey Number               0\n",
       "Height                      0\n",
       "Weight                      0\n",
       "dtype: int64"
      ]
     },
     "execution_count": 7,
     "metadata": {},
     "output_type": "execute_result"
    }
   ],
   "source": [
    "data=data.dropna()\n",
    "data.isnull().sum()"
   ]
  },
  {
   "cell_type": "code",
   "execution_count": 9,
   "id": "fd2d25b4",
   "metadata": {
    "scrolled": true
   },
   "outputs": [
    {
     "ename": "NameError",
     "evalue": "name 'df1' is not defined",
     "output_type": "error",
     "traceback": [
      "\u001b[1;31m---------------------------------------------------------------------------\u001b[0m",
      "\u001b[1;31mNameError\u001b[0m                                 Traceback (most recent call last)",
      "\u001b[1;32m<ipython-input-9-76376a17075e>\u001b[0m in \u001b[0;36m<module>\u001b[1;34m\u001b[0m\n\u001b[0;32m      1\u001b[0m \u001b[1;32mfrom\u001b[0m \u001b[0msklearn\u001b[0m\u001b[1;33m.\u001b[0m\u001b[0mpreprocessing\u001b[0m \u001b[1;32mimport\u001b[0m \u001b[0mLabelEncoder\u001b[0m\u001b[1;33m\u001b[0m\u001b[1;33m\u001b[0m\u001b[0m\n\u001b[0;32m      2\u001b[0m \u001b[0mle\u001b[0m\u001b[1;33m=\u001b[0m\u001b[0mLabelEncoder\u001b[0m\u001b[1;33m(\u001b[0m\u001b[1;33m)\u001b[0m\u001b[1;33m\u001b[0m\u001b[1;33m\u001b[0m\u001b[0m\n\u001b[1;32m----> 3\u001b[1;33m \u001b[0mdf1\u001b[0m\u001b[1;33m[\u001b[0m\u001b[1;34m'Preferred Foot'\u001b[0m\u001b[1;33m]\u001b[0m\u001b[1;33m=\u001b[0m\u001b[0mle\u001b[0m\u001b[1;33m.\u001b[0m\u001b[0mfit_transform\u001b[0m\u001b[1;33m(\u001b[0m\u001b[0mdf1\u001b[0m\u001b[1;33m[\u001b[0m\u001b[1;34m'Preferred Foot'\u001b[0m\u001b[1;33m]\u001b[0m\u001b[1;33m)\u001b[0m\u001b[1;33m\u001b[0m\u001b[1;33m\u001b[0m\u001b[0m\n\u001b[0m",
      "\u001b[1;31mNameError\u001b[0m: name 'df1' is not defined"
     ]
    }
   ],
   "source": [
    "from sklearn.preprocessing import LabelEncoder\n",
    "le=LabelEncoder()\n",
    "df1['Preferred Foot']=le.fit_transform(df1['Preferred Foot'])"
   ]
  },
  {
   "cell_type": "code",
   "execution_count": null,
   "id": "12923f1c",
   "metadata": {},
   "outputs": [],
   "source": [
    "df1['Preferred Foot']"
   ]
  },
  {
   "cell_type": "code",
   "execution_count": null,
   "id": "d53ab56b",
   "metadata": {},
   "outputs": [],
   "source": [
    "df1.head()"
   ]
  },
  {
   "cell_type": "code",
   "execution_count": null,
   "id": "9c1ca6cf",
   "metadata": {},
   "outputs": [],
   "source": [
    "df1.columns"
   ]
  },
  {
   "cell_type": "markdown",
   "id": "1316c50a",
   "metadata": {},
   "source": [
    "a)Assuming age as population, perform the central limit theorem with sample size of 200.\n",
    "Find the standard error and the mean of sampling distribution. \n",
    "Compare the results with population mean and standard deviation. Explain in non-technical terms why the estimated standard error of a sample mean tends to decrease with an increase in sample size\n",
    "\n"
   ]
  },
  {
   "cell_type": "code",
   "execution_count": 10,
   "id": "19a645aa",
   "metadata": {},
   "outputs": [
    {
     "data": {
      "text/plain": [
       "27.215547703180214"
      ]
     },
     "execution_count": 10,
     "metadata": {},
     "output_type": "execute_result"
    },
    {
     "data": {
      "image/png": "[encoded data removed]",
      "text/plain": [
       "<Figure size 432x288 with 1 Axes>"
      ]
     },
     "metadata": {
      "needs_background": "light"
     },
     "output_type": "display_data"
    }
   ],
   "source": [
    "data['Age'].plot(kind='kde')\n",
    "data['Age'].mean()"
   ]
  },
  {
   "cell_type": "code",
   "execution_count": 12,
   "id": "8d83831a",
   "metadata": {},
   "outputs": [
    {
     "data": {
      "image/png": "[encoded data removed]",
      "text/plain": [
       "<Figure size 432x288 with 1 Axes>"
      ]
     },
     "metadata": {
      "needs_background": "light"
     },
     "output_type": "display_data"
    }
   ],
   "source": [
    "pop=data['Age']\n",
    "sb.kdeplot(pop)\n",
    "plt.show()                                           "
   ]
  },
  {
   "cell_type": "code",
   "execution_count": 13,
   "id": "e8a42b8a",
   "metadata": {},
   "outputs": [],
   "source": [
    "sample_size=200\n",
    "no_of_sample=len(data['Age'])\n",
    "sample_mean_list=[]\n",
    "for i in range(no_of_sample):\n",
    "    sample=np.random.choice(pop,size=sample_size,replace=True)\n",
    "    sample_mean=np.mean(sample)\n",
    "    sample_mean_list.append(sample_mean)                           #proving central limit theorem\n",
    "    "
   ]
  },
  {
   "cell_type": "code",
   "execution_count": 14,
   "id": "bd962474",
   "metadata": {},
   "outputs": [
    {
     "data": {
      "text/plain": [
       "[26.925,\n",
       " 27.105,\n",
       " 27.39,\n",
       " 27.185,\n",
       " 27.085,\n",
       " 26.87,\n",
       " 27.35,\n",
       " 27.155,\n",
       " 26.945,\n",
       " 27.5,\n",
       " 27.275,\n",
       " 27.18,\n",
       " 27.08,\n",
       " 28.115,\n",
       " 27.275,\n",
       " 26.66,\n",
       " 27.385,\n",
       " 27.015,\n",
       " 27.41,\n",
       " 27.125,\n",
       " 27.28,\n",
       " 27.39,\n",
       " 27.525,\n",
       " 27.23,\n",
       " 27.235,\n",
       " 27.085,\n",
       " 27.865,\n",
       " 27.85,\n",
       " 27.225,\n",
       " 27.225,\n",
       " 27.485,\n",
       " 26.91,\n",
       " 26.945,\n",
       " 27.5,\n",
       " 26.935,\n",
       " 26.815,\n",
       " 26.705,\n",
       " 27.465,\n",
       " 27.325,\n",
       " 27.075,\n",
       " 27.48,\n",
       " 27.755,\n",
       " 27.085,\n",
       " 27.045,\n",
       " 27.355,\n",
       " 27.42,\n",
       " 26.89,\n",
       " 26.95,\n",
       " 27.64,\n",
       " 27.055,\n",
       " 27.22,\n",
       " 27.315,\n",
       " 27.055,\n",
       " 27.65,\n",
       " 27.0,\n",
       " 26.9,\n",
       " 27.455,\n",
       " 27.125,\n",
       " 27.645,\n",
       " 27.495,\n",
       " 27.635,\n",
       " 27.18,\n",
       " 26.855,\n",
       " 27.255,\n",
       " 27.15,\n",
       " 26.97,\n",
       " 26.695,\n",
       " 26.825,\n",
       " 27.715,\n",
       " 27.315,\n",
       " 27.215,\n",
       " 27.45,\n",
       " 27.16,\n",
       " 27.51,\n",
       " 27.74,\n",
       " 27.255,\n",
       " 27.31,\n",
       " 27.34,\n",
       " 27.37,\n",
       " 27.305,\n",
       " 27.07,\n",
       " 26.92,\n",
       " 27.145,\n",
       " 27.605,\n",
       " 27.01,\n",
       " 27.4,\n",
       " 27.6,\n",
       " 27.19,\n",
       " 27.645,\n",
       " 27.34,\n",
       " 26.89,\n",
       " 27.54,\n",
       " 27.28,\n",
       " 27.525,\n",
       " 26.775,\n",
       " 27.445,\n",
       " 27.185,\n",
       " 27.29,\n",
       " 27.365,\n",
       " 27.33,\n",
       " 27.555,\n",
       " 27.27,\n",
       " 27.225,\n",
       " 27.49,\n",
       " 26.97,\n",
       " 27.35,\n",
       " 27.745,\n",
       " 27.405,\n",
       " 26.96,\n",
       " 27.18,\n",
       " 27.04,\n",
       " 27.545,\n",
       " 26.81,\n",
       " 27.195,\n",
       " 27.305,\n",
       " 26.98,\n",
       " 27.525,\n",
       " 27.575,\n",
       " 27.42,\n",
       " 27.67,\n",
       " 27.445,\n",
       " 27.64,\n",
       " 26.88,\n",
       " 27.16,\n",
       " 26.82,\n",
       " 27.085,\n",
       " 27.54,\n",
       " 27.29,\n",
       " 27.12,\n",
       " 27.225,\n",
       " 26.92,\n",
       " 26.555,\n",
       " 27.095,\n",
       " 27.23,\n",
       " 27.07,\n",
       " 26.775,\n",
       " 27.335,\n",
       " 26.785,\n",
       " 27.02,\n",
       " 27.39,\n",
       " 27.015,\n",
       " 26.45,\n",
       " 26.995,\n",
       " 26.825,\n",
       " 27.295,\n",
       " 27.095,\n",
       " 27.205,\n",
       " 26.91,\n",
       " 27.01,\n",
       " 27.335,\n",
       " 27.46,\n",
       " 27.635,\n",
       " 27.085,\n",
       " 27.545,\n",
       " 27.47,\n",
       " 27.655,\n",
       " 27.575,\n",
       " 27.03,\n",
       " 27.375,\n",
       " 26.885,\n",
       " 27.2,\n",
       " 27.005,\n",
       " 27.59,\n",
       " 27.675,\n",
       " 26.965,\n",
       " 27.305,\n",
       " 26.855,\n",
       " 27.315,\n",
       " 26.97,\n",
       " 27.14,\n",
       " 27.19,\n",
       " 27.1,\n",
       " 26.665,\n",
       " 27.75,\n",
       " 27.17,\n",
       " 27.345,\n",
       " 27.29,\n",
       " 27.565,\n",
       " 27.05,\n",
       " 27.335,\n",
       " 27.35,\n",
       " 27.235,\n",
       " 27.095,\n",
       " 27.225,\n",
       " 27.19,\n",
       " 27.125,\n",
       " 27.04,\n",
       " 27.575,\n",
       " 27.43,\n",
       " 27.42,\n",
       " 27.515,\n",
       " 27.415,\n",
       " 27.18,\n",
       " 27.535,\n",
       " 27.355,\n",
       " 26.96,\n",
       " 27.025,\n",
       " 27.775,\n",
       " 26.91,\n",
       " 27.485,\n",
       " 27.515,\n",
       " 26.465,\n",
       " 27.33,\n",
       " 27.085,\n",
       " 27.685,\n",
       " 27.71,\n",
       " 27.14,\n",
       " 26.445,\n",
       " 27.44,\n",
       " 26.915,\n",
       " 27.485,\n",
       " 27.415,\n",
       " 27.92,\n",
       " 27.285,\n",
       " 26.9,\n",
       " 27.39,\n",
       " 27.22,\n",
       " 27.295,\n",
       " 27.395,\n",
       " 26.805,\n",
       " 27.29,\n",
       " 27.105,\n",
       " 27.405,\n",
       " 26.935,\n",
       " 27.635,\n",
       " 26.86,\n",
       " 27.53,\n",
       " 27.65,\n",
       " 26.965,\n",
       " 26.855,\n",
       " 27.085,\n",
       " 27.535,\n",
       " 26.985,\n",
       " 26.785,\n",
       " 27.085,\n",
       " 26.92,\n",
       " 27.62,\n",
       " 27.585,\n",
       " 26.86,\n",
       " 26.86,\n",
       " 27.145,\n",
       " 26.855,\n",
       " 26.955,\n",
       " 27.035,\n",
       " 27.54,\n",
       " 27.41,\n",
       " 27.8,\n",
       " 27.065,\n",
       " 27.435,\n",
       " 27.32,\n",
       " 26.985,\n",
       " 27.38,\n",
       " 26.66,\n",
       " 27.34,\n",
       " 27.2,\n",
       " 27.255,\n",
       " 26.98,\n",
       " 27.67,\n",
       " 27.24,\n",
       " 27.065,\n",
       " 27.59,\n",
       " 27.405,\n",
       " 27.8,\n",
       " 27.265,\n",
       " 27.26,\n",
       " 27.03,\n",
       " 27.02,\n",
       " 26.965,\n",
       " 27.43,\n",
       " 27.405,\n",
       " 27.1,\n",
       " 27.36,\n",
       " 26.875,\n",
       " 27.325,\n",
       " 26.76,\n",
       " 27.43,\n",
       " 26.875,\n",
       " 27.01,\n",
       " 27.15,\n",
       " 26.99,\n",
       " 27.53,\n",
       " 26.995,\n",
       " 27.47,\n",
       " 27.24,\n",
       " 27.035,\n",
       " 26.855,\n",
       " 27.15,\n",
       " 27.28,\n",
       " 27.13,\n",
       " 27.39,\n",
       " 27.135,\n",
       " 27.105,\n",
       " 27.14,\n",
       " 26.925,\n",
       " 27.22,\n",
       " 27.425,\n",
       " 27.2,\n",
       " 26.85,\n",
       " 26.795,\n",
       " 27.14,\n",
       " 27.225,\n",
       " 27.51,\n",
       " 26.94,\n",
       " 27.395,\n",
       " 27.855,\n",
       " 27.245,\n",
       " 27.07,\n",
       " 27.205,\n",
       " 27.75,\n",
       " 27.705,\n",
       " 27.295,\n",
       " 27.305,\n",
       " 27.685,\n",
       " 27.965,\n",
       " 27.31,\n",
       " 27.33,\n",
       " 26.445,\n",
       " 26.995,\n",
       " 26.86,\n",
       " 27.45,\n",
       " 27.17,\n",
       " 27.265,\n",
       " 26.85,\n",
       " 27.43,\n",
       " 27.36,\n",
       " 27.555,\n",
       " 27.475,\n",
       " 26.775,\n",
       " 27.065,\n",
       " 27.395,\n",
       " 26.995,\n",
       " 26.965,\n",
       " 26.965,\n",
       " 27.255,\n",
       " 26.585,\n",
       " 27.175,\n",
       " 27.36,\n",
       " 26.91,\n",
       " 27.1,\n",
       " 27.035,\n",
       " 27.655,\n",
       " 27.195,\n",
       " 27.02,\n",
       " 27.415,\n",
       " 27.235,\n",
       " 27.605,\n",
       " 27.13,\n",
       " 27.0,\n",
       " 27.495,\n",
       " 26.875,\n",
       " 27.095,\n",
       " 27.25,\n",
       " 27.76,\n",
       " 27.465,\n",
       " 27.27,\n",
       " 27.245,\n",
       " 27.31,\n",
       " 27.505,\n",
       " 27.415,\n",
       " 27.525,\n",
       " 27.3,\n",
       " 27.235,\n",
       " 27.035,\n",
       " 27.425,\n",
       " 27.09,\n",
       " 26.735,\n",
       " 26.865,\n",
       " 27.55,\n",
       " 27.27,\n",
       " 27.245,\n",
       " 26.945,\n",
       " 27.345,\n",
       " 27.125,\n",
       " 27.035,\n",
       " 26.695,\n",
       " 27.13,\n",
       " 26.995,\n",
       " 26.865,\n",
       " 27.415,\n",
       " 27.07,\n",
       " 27.2,\n",
       " 27.435,\n",
       " 27.33,\n",
       " 26.98,\n",
       " 27.055,\n",
       " 27.415,\n",
       " 27.395,\n",
       " 26.74,\n",
       " 27.17,\n",
       " 26.925,\n",
       " 27.32,\n",
       " 27.385,\n",
       " 27.38,\n",
       " 27.075,\n",
       " 26.93,\n",
       " 27.26,\n",
       " 27.3,\n",
       " 26.55,\n",
       " 26.95,\n",
       " 26.65,\n",
       " 27.135,\n",
       " 26.885,\n",
       " 27.115,\n",
       " 27.3,\n",
       " 26.98,\n",
       " 26.965,\n",
       " 27.425,\n",
       " 27.11,\n",
       " 27.185,\n",
       " 26.945,\n",
       " 27.11,\n",
       " 26.94,\n",
       " 27.485,\n",
       " 27.365,\n",
       " 27.44,\n",
       " 27.02,\n",
       " 27.225,\n",
       " 27.465,\n",
       " 27.21,\n",
       " 26.76,\n",
       " 26.695,\n",
       " 26.925,\n",
       " 27.58,\n",
       " 26.77,\n",
       " 27.045,\n",
       " 26.87,\n",
       " 27.51,\n",
       " 26.93,\n",
       " 27.41,\n",
       " 27.325,\n",
       " 26.64,\n",
       " 26.955,\n",
       " 27.185,\n",
       " 26.71,\n",
       " 27.36,\n",
       " 27.285,\n",
       " 27.145,\n",
       " 27.44,\n",
       " 27.535,\n",
       " 27.05,\n",
       " 27.43,\n",
       " 27.065,\n",
       " 27.13,\n",
       " 27.04,\n",
       " 27.365,\n",
       " 27.475,\n",
       " 27.735,\n",
       " 27.415,\n",
       " 27.515,\n",
       " 27.225,\n",
       " 27.7,\n",
       " 27.025,\n",
       " 27.495,\n",
       " 27.415,\n",
       " 26.84,\n",
       " 27.17,\n",
       " 27.355,\n",
       " 27.54,\n",
       " 26.92,\n",
       " 27.475,\n",
       " 26.705,\n",
       " 26.58,\n",
       " 27.4,\n",
       " 27.185,\n",
       " 26.905,\n",
       " 27.375,\n",
       " 27.6,\n",
       " 27.06,\n",
       " 27.17,\n",
       " 27.22,\n",
       " 27.0,\n",
       " 26.97,\n",
       " 27.595,\n",
       " 27.16,\n",
       " 27.455,\n",
       " 27.025,\n",
       " 27.5,\n",
       " 27.4,\n",
       " 27.38,\n",
       " 27.205,\n",
       " 26.995,\n",
       " 26.975,\n",
       " 26.615,\n",
       " 27.085,\n",
       " 27.055,\n",
       " 27.11,\n",
       " 27.225,\n",
       " 27.335,\n",
       " 27.405,\n",
       " 27.2,\n",
       " 27.52,\n",
       " 27.39,\n",
       " 27.27,\n",
       " 27.055,\n",
       " 27.305,\n",
       " 27.445,\n",
       " 27.585,\n",
       " 27.045,\n",
       " 27.67,\n",
       " 27.475,\n",
       " 27.45,\n",
       " 27.91,\n",
       " 27.215,\n",
       " 27.19,\n",
       " 27.475,\n",
       " 27.29,\n",
       " 27.51,\n",
       " 27.37,\n",
       " 26.65,\n",
       " 27.195,\n",
       " 27.235,\n",
       " 26.83,\n",
       " 27.185,\n",
       " 27.005,\n",
       " 27.86,\n",
       " 27.31,\n",
       " 27.545,\n",
       " 27.875,\n",
       " 27.43,\n",
       " 27.275,\n",
       " 27.675,\n",
       " 27.445,\n",
       " 27.115,\n",
       " 27.055,\n",
       " 26.895,\n",
       " 26.785,\n",
       " 27.375,\n",
       " 26.865,\n",
       " 27.5,\n",
       " 27.265,\n",
       " 27.175,\n",
       " 27.085,\n",
       " 27.455,\n",
       " 27.01,\n",
       " 26.78,\n",
       " 27.385,\n",
       " 27.235,\n",
       " 27.85,\n",
       " 27.265,\n",
       " 26.975,\n",
       " 27.565,\n",
       " 27.53,\n",
       " 27.095,\n",
       " 27.27,\n",
       " 27.17,\n",
       " 26.91,\n",
       " 27.27,\n",
       " 27.03,\n",
       " 27.095,\n",
       " 27.435,\n",
       " 27.44,\n",
       " 26.685,\n",
       " 27.05,\n",
       " 27.28,\n",
       " 27.05,\n",
       " 27.35,\n",
       " 27.18,\n",
       " 27.095,\n",
       " 27.25,\n",
       " 27.1,\n",
       " 27.32,\n",
       " 27.505,\n",
       " 27.11,\n",
       " 27.775,\n",
       " 26.805,\n",
       " 27.36,\n",
       " 27.135,\n",
       " 27.285,\n",
       " 27.055,\n",
       " 27.825,\n",
       " 26.74,\n",
       " 27.18,\n",
       " 27.25,\n",
       " 27.26,\n",
       " 26.965,\n",
       " 26.93,\n",
       " 27.52,\n",
       " 27.65,\n",
       " 27.11,\n",
       " 27.295,\n",
       " 27.69,\n",
       " 26.885,\n",
       " 27.69,\n",
       " 27.27,\n",
       " 27.42,\n",
       " 27.26,\n",
       " 27.41,\n",
       " 26.845,\n",
       " 27.83,\n",
       " 27.62,\n",
       " 27.755,\n",
       " 27.445,\n",
       " 27.175,\n",
       " 27.435,\n",
       " 27.32,\n",
       " 27.445,\n",
       " 26.92,\n",
       " 27.28,\n",
       " 27.01,\n",
       " 27.075,\n",
       " 27.415,\n",
       " 27.125,\n",
       " 27.31,\n",
       " 27.705,\n",
       " 27.42,\n",
       " 27.24,\n",
       " 27.015,\n",
       " 27.43,\n",
       " 27.575,\n",
       " 26.87,\n",
       " 27.575,\n",
       " 27.09,\n",
       " 27.185,\n",
       " 26.985,\n",
       " 27.57,\n",
       " 26.91,\n",
       " 27.685,\n",
       " 27.395,\n",
       " 27.455,\n",
       " 27.365,\n",
       " 27.28,\n",
       " 27.535,\n",
       " 27.23,\n",
       " 27.525,\n",
       " 27.015,\n",
       " 26.845,\n",
       " 27.585,\n",
       " 27.6,\n",
       " 27.315,\n",
       " 26.815,\n",
       " 27.18,\n",
       " 26.855,\n",
       " 27.205,\n",
       " 27.255,\n",
       " 26.975,\n",
       " 27.175,\n",
       " 27.22,\n",
       " 27.535,\n",
       " 27.205,\n",
       " 27.065,\n",
       " 27.125,\n",
       " 27.4,\n",
       " 27.075,\n",
       " 27.215,\n",
       " 27.53,\n",
       " 27.11,\n",
       " 27.25,\n",
       " 27.395,\n",
       " 27.46,\n",
       " 27.445,\n",
       " 26.8,\n",
       " 26.93,\n",
       " 27.0,\n",
       " 27.01,\n",
       " 27.355,\n",
       " 26.96,\n",
       " 27.16,\n",
       " 27.065,\n",
       " 27.28,\n",
       " 27.18,\n",
       " 27.16,\n",
       " 26.885,\n",
       " 27.23,\n",
       " 26.85,\n",
       " 27.59,\n",
       " 27.315,\n",
       " 27.0,\n",
       " 27.065,\n",
       " 26.85,\n",
       " 27.36,\n",
       " 27.375,\n",
       " 27.885,\n",
       " 27.215,\n",
       " 27.57,\n",
       " 27.625,\n",
       " 26.95,\n",
       " 27.52,\n",
       " 26.98,\n",
       " 27.415,\n",
       " 26.85,\n",
       " 26.79,\n",
       " 27.17,\n",
       " 27.11,\n",
       " 27.185,\n",
       " 26.68,\n",
       " 27.315,\n",
       " 27.395,\n",
       " 27.685,\n",
       " 27.175,\n",
       " 26.825,\n",
       " 27.23,\n",
       " 27.32,\n",
       " 26.98,\n",
       " 26.84,\n",
       " 27.21,\n",
       " 26.865,\n",
       " 27.115,\n",
       " 27.29,\n",
       " 27.13,\n",
       " 27.415,\n",
       " 26.89,\n",
       " 27.51,\n",
       " 27.5,\n",
       " 27.545,\n",
       " 27.14,\n",
       " 26.81,\n",
       " 27.325,\n",
       " 26.985,\n",
       " 27.275,\n",
       " 27.055,\n",
       " 27.39,\n",
       " 26.855,\n",
       " 27.01,\n",
       " 26.915,\n",
       " 27.39,\n",
       " 27.11,\n",
       " 27.53,\n",
       " 26.855,\n",
       " 27.1,\n",
       " 27.075,\n",
       " 27.245,\n",
       " 27.57,\n",
       " 27.22,\n",
       " 27.35,\n",
       " 27.155,\n",
       " 27.15,\n",
       " 27.395,\n",
       " 27.365,\n",
       " 27.1,\n",
       " 26.785,\n",
       " 27.825,\n",
       " 27.03,\n",
       " 27.325,\n",
       " 26.635,\n",
       " 26.825,\n",
       " 27.18,\n",
       " 27.195,\n",
       " 27.255,\n",
       " 27.04,\n",
       " 27.155,\n",
       " 27.02,\n",
       " 27.185,\n",
       " 27.32,\n",
       " 27.12,\n",
       " 27.39,\n",
       " 27.565,\n",
       " 27.405,\n",
       " 26.94,\n",
       " 27.09,\n",
       " 27.145,\n",
       " 27.315,\n",
       " 27.485,\n",
       " 26.94,\n",
       " 27.345,\n",
       " 27.685,\n",
       " 27.625,\n",
       " 27.065,\n",
       " 27.025,\n",
       " 27.455,\n",
       " 27.01,\n",
       " 27.0,\n",
       " 26.71,\n",
       " 27.115,\n",
       " 27.35,\n",
       " 27.31,\n",
       " 27.585,\n",
       " 27.94,\n",
       " 27.27,\n",
       " 26.995,\n",
       " 27.105,\n",
       " 27.025,\n",
       " 27.3,\n",
       " 26.795,\n",
       " 27.22,\n",
       " 27.145,\n",
       " 27.06,\n",
       " 27.395,\n",
       " 27.305,\n",
       " 27.45,\n",
       " 27.13,\n",
       " 27.11,\n",
       " 27.11,\n",
       " 27.34,\n",
       " 26.6,\n",
       " 27.275,\n",
       " 27.41,\n",
       " 27.295,\n",
       " 27.395,\n",
       " 26.89,\n",
       " 27.085,\n",
       " 27.74,\n",
       " 26.785,\n",
       " 26.73,\n",
       " 26.84,\n",
       " 27.505,\n",
       " 26.975,\n",
       " 27.2,\n",
       " 27.08,\n",
       " 27.19,\n",
       " 27.18,\n",
       " 27.295,\n",
       " 27.0,\n",
       " 27.155,\n",
       " 27.78,\n",
       " 27.58,\n",
       " 27.115,\n",
       " 27.69,\n",
       " 26.695,\n",
       " 27.015,\n",
       " 27.155,\n",
       " 27.755,\n",
       " 27.28,\n",
       " 26.845,\n",
       " 27.24,\n",
       " 27.505,\n",
       " 27.445,\n",
       " 27.355,\n",
       " 26.78,\n",
       " 27.32,\n",
       " 27.845,\n",
       " 26.985,\n",
       " 27.155,\n",
       " 27.175,\n",
       " 27.145,\n",
       " 27.995,\n",
       " 27.045,\n",
       " 26.595,\n",
       " 26.975,\n",
       " 27.425,\n",
       " 26.65,\n",
       " 26.785,\n",
       " 26.78,\n",
       " 27.65,\n",
       " 26.815,\n",
       " 27.08,\n",
       " 26.96,\n",
       " 27.245,\n",
       " 27.395,\n",
       " 27.3,\n",
       " 27.405,\n",
       " 27.77,\n",
       " 26.855,\n",
       " 27.245,\n",
       " 27.475,\n",
       " 27.415,\n",
       " 27.245,\n",
       " 27.72,\n",
       " 26.815,\n",
       " 27.095,\n",
       " 27.18,\n",
       " 27.175,\n",
       " 27.35,\n",
       " 27.155,\n",
       " 27.115,\n",
       " 27.305,\n",
       " 27.225,\n",
       " 27.43,\n",
       " 26.92,\n",
       " 27.145,\n",
       " 27.105,\n",
       " 27.02,\n",
       " 27.105,\n",
       " 27.31,\n",
       " 26.74,\n",
       " 26.98,\n",
       " 27.07,\n",
       " 27.185,\n",
       " 27.455,\n",
       " 27.365,\n",
       " 27.115,\n",
       " 27.235,\n",
       " 27.015,\n",
       " 27.02,\n",
       " 27.085,\n",
       " 27.64,\n",
       " 27.355,\n",
       " 27.295,\n",
       " 26.77,\n",
       " 27.355,\n",
       " 27.19,\n",
       " 27.31,\n",
       " 27.33,\n",
       " 26.64,\n",
       " 27.6,\n",
       " 27.485,\n",
       " 27.01,\n",
       " 27.06,\n",
       " 26.82,\n",
       " 27.05,\n",
       " 27.065,\n",
       " 27.625,\n",
       " 27.155,\n",
       " 27.16,\n",
       " 27.345,\n",
       " 27.47,\n",
       " 27.215,\n",
       " 27.075,\n",
       " 27.235,\n",
       " 27.425,\n",
       " 26.73,\n",
       " 27.13,\n",
       " 27.04,\n",
       " 27.09,\n",
       " 27.285,\n",
       " 27.025,\n",
       " 27.205,\n",
       " 27.34,\n",
       " 27.445,\n",
       " 27.415,\n",
       " 27.255,\n",
       " 27.325,\n",
       " 27.555,\n",
       " 27.205,\n",
       " 27.715,\n",
       " 27.105,\n",
       " 27.43,\n",
       " 27.34,\n",
       " 27.115,\n",
       " 27.27,\n",
       " 27.09,\n",
       " 27.105,\n",
       " 27.34,\n",
       " 27.29,\n",
       " 27.08,\n",
       " 26.7,\n",
       " 27.17,\n",
       " 27.5,\n",
       " 26.925,\n",
       " 27.27,\n",
       " 26.765,\n",
       " 26.945,\n",
       " 26.99,\n",
       " 27.205,\n",
       " 27.415,\n",
       " 27.315,\n",
       " 27.43,\n",
       " 27.09,\n",
       " 27.36,\n",
       " 27.495,\n",
       " 27.055,\n",
       " 27.04,\n",
       " 27.19,\n",
       " 27.125,\n",
       " 26.775,\n",
       " 27.335,\n",
       " 27.605,\n",
       " 27.685,\n",
       " 26.84,\n",
       " 27.4,\n",
       " 27.22,\n",
       " 27.4,\n",
       " 26.73,\n",
       " 26.875,\n",
       " 27.215,\n",
       " 27.07,\n",
       " 26.62,\n",
       " 27.365,\n",
       " 27.68,\n",
       " 27.62,\n",
       " 27.225,\n",
       " 27.565,\n",
       " 27.13,\n",
       " 27.84,\n",
       " 27.095,\n",
       " 27.13,\n",
       " 27.065,\n",
       " 27.095,\n",
       " 27.205,\n",
       " 27.255,\n",
       " 27.0,\n",
       " 27.145,\n",
       " 27.6,\n",
       " 27.23,\n",
       " 27.3,\n",
       " 28.015,\n",
       " 26.85,\n",
       " 26.855,\n",
       " 26.905,\n",
       " 27.94,\n",
       " 27.165,\n",
       " 27.01,\n",
       " 27.14,\n",
       " 27.39,\n",
       " 27.06,\n",
       " 27.11,\n",
       " 27.23,\n",
       " 27.02,\n",
       " 26.76,\n",
       " 26.94,\n",
       " 26.82,\n",
       " 27.155,\n",
       " 26.95,\n",
       " 27.19,\n",
       " 27.005,\n",
       " 26.39,\n",
       " 27.245,\n",
       " 27.085,\n",
       " 27.375,\n",
       " 27.255,\n",
       " 27.8,\n",
       " ...]"
      ]
     },
     "execution_count": 14,
     "metadata": {},
     "output_type": "execute_result"
    }
   ],
   "source": [
    "sample_mean_list"
   ]
  },
  {
   "cell_type": "code",
   "execution_count": 15,
   "id": "97a1aca6",
   "metadata": {
    "scrolled": true
   },
   "outputs": [
    {
     "name": "stderr",
     "output_type": "stream",
     "text": [
      "C:\\Users\\G Jaya Surya\\anaconda3\\lib\\site-packages\\seaborn\\distributions.py:2551: FutureWarning: `distplot` is a deprecated function and will be removed in a future version. Please adapt your code to use either `displot` (a figure-level function with similar flexibility) or `histplot` (an axes-level function for histograms).\n",
      "  warnings.warn(msg, FutureWarning)\n"
     ]
    },
    {
     "data": {
      "text/plain": [
       "<AxesSubplot:ylabel='Density'>"
      ]
     },
     "execution_count": 15,
     "metadata": {},
     "output_type": "execute_result"
    },
    {
     "data": {
      "image/png": "[encoded data removed]",
      "text/plain": [
       "<Figure size 432x288 with 1 Axes>"
      ]
     },
     "metadata": {
      "needs_background": "light"
     },
     "output_type": "display_data"
    }
   ],
   "source": [
    "sb.distplot(sample_mean_list)"
   ]
  },
  {
   "cell_type": "markdown",
   "id": "414584ae",
   "metadata": {},
   "source": [
    "b)Is there any evidence that the players overall rating is greater than 80?"
   ]
  },
  {
   "cell_type": "code",
   "execution_count": 46,
   "id": "5cf6f455",
   "metadata": {},
   "outputs": [
    {
     "data": {
      "text/html": [
       "<div>\n",
       "<style scoped>\n",
       "    .dataframe tbody tr th:only-of-type {\n",
       "        vertical-align: middle;\n",
       "    }\n",
       "\n",
       "    .dataframe tbody tr th {\n",
       "        vertical-align: top;\n",
       "    }\n",
       "\n",
       "    .dataframe thead th {\n",
       "        text-align: right;\n",
       "    }\n",
       "</style>\n",
       "<table border=\"1\" class=\"dataframe\">\n",
       "  <thead>\n",
       "    <tr style=\"text-align: right;\">\n",
       "      <th></th>\n",
       "      <th>Name</th>\n",
       "      <th>Age</th>\n",
       "      <th>Nationality</th>\n",
       "      <th>Overall_rating</th>\n",
       "      <th>Potential</th>\n",
       "      <th>Club</th>\n",
       "      <th>Preferred Foot</th>\n",
       "      <th>International Reputation</th>\n",
       "      <th>Weak Foot</th>\n",
       "      <th>Skill Moves</th>\n",
       "      <th>Work Rate</th>\n",
       "      <th>Position</th>\n",
       "      <th>Jersey Number</th>\n",
       "      <th>Height</th>\n",
       "      <th>Weight</th>\n",
       "    </tr>\n",
       "  </thead>\n",
       "  <tbody>\n",
       "    <tr>\n",
       "      <th>0</th>\n",
       "      <td>L. Messi</td>\n",
       "      <td>31</td>\n",
       "      <td>Argentina</td>\n",
       "      <td>94</td>\n",
       "      <td>94</td>\n",
       "      <td>FC Barcelona</td>\n",
       "      <td>Left</td>\n",
       "      <td>5</td>\n",
       "      <td>4</td>\n",
       "      <td>4</td>\n",
       "      <td>Medium/ Medium</td>\n",
       "      <td>RF</td>\n",
       "      <td>10</td>\n",
       "      <td>5.583333</td>\n",
       "      <td>159</td>\n",
       "    </tr>\n",
       "    <tr>\n",
       "      <th>1</th>\n",
       "      <td>Cristiano Ronaldo</td>\n",
       "      <td>33</td>\n",
       "      <td>Portugal</td>\n",
       "      <td>94</td>\n",
       "      <td>94</td>\n",
       "      <td>Juventus</td>\n",
       "      <td>Right</td>\n",
       "      <td>5</td>\n",
       "      <td>4</td>\n",
       "      <td>5</td>\n",
       "      <td>High/ Low</td>\n",
       "      <td>ST</td>\n",
       "      <td>7</td>\n",
       "      <td>6.166667</td>\n",
       "      <td>183</td>\n",
       "    </tr>\n",
       "    <tr>\n",
       "      <th>2</th>\n",
       "      <td>Neymar Jr</td>\n",
       "      <td>26</td>\n",
       "      <td>Brazil</td>\n",
       "      <td>92</td>\n",
       "      <td>93</td>\n",
       "      <td>Paris Saint-Germain</td>\n",
       "      <td>Right</td>\n",
       "      <td>5</td>\n",
       "      <td>5</td>\n",
       "      <td>5</td>\n",
       "      <td>High/ Medium</td>\n",
       "      <td>LW</td>\n",
       "      <td>10</td>\n",
       "      <td>5.750000</td>\n",
       "      <td>150</td>\n",
       "    </tr>\n",
       "    <tr>\n",
       "      <th>3</th>\n",
       "      <td>De Gea</td>\n",
       "      <td>27</td>\n",
       "      <td>Spain</td>\n",
       "      <td>91</td>\n",
       "      <td>93</td>\n",
       "      <td>Manchester United</td>\n",
       "      <td>Right</td>\n",
       "      <td>4</td>\n",
       "      <td>3</td>\n",
       "      <td>1</td>\n",
       "      <td>Medium/ Medium</td>\n",
       "      <td>GK</td>\n",
       "      <td>1</td>\n",
       "      <td>6.333333</td>\n",
       "      <td>168</td>\n",
       "    </tr>\n",
       "    <tr>\n",
       "      <th>4</th>\n",
       "      <td>K. De Bruyne</td>\n",
       "      <td>27</td>\n",
       "      <td>Belgium</td>\n",
       "      <td>91</td>\n",
       "      <td>92</td>\n",
       "      <td>Manchester City</td>\n",
       "      <td>Right</td>\n",
       "      <td>4</td>\n",
       "      <td>5</td>\n",
       "      <td>4</td>\n",
       "      <td>High/ High</td>\n",
       "      <td>RCM</td>\n",
       "      <td>7</td>\n",
       "      <td>5.083333</td>\n",
       "      <td>154</td>\n",
       "    </tr>\n",
       "  </tbody>\n",
       "</table>\n",
       "</div>"
      ],
      "text/plain": [
       "                Name  Age Nationality  Overall_rating  Potential  \\\n",
       "0           L. Messi   31   Argentina              94         94   \n",
       "1  Cristiano Ronaldo   33    Portugal              94         94   \n",
       "2          Neymar Jr   26      Brazil              92         93   \n",
       "3             De Gea   27       Spain              91         93   \n",
       "4       K. De Bruyne   27     Belgium              91         92   \n",
       "\n",
       "                  Club Preferred Foot  International Reputation  Weak Foot  \\\n",
       "0         FC Barcelona           Left                         5          4   \n",
       "1             Juventus          Right                         5          4   \n",
       "2  Paris Saint-Germain          Right                         5          5   \n",
       "3    Manchester United          Right                         4          3   \n",
       "4      Manchester City          Right                         4          5   \n",
       "\n",
       "   Skill Moves       Work Rate Position  Jersey Number    Height  Weight  \n",
       "0            4  Medium/ Medium       RF             10  5.583333     159  \n",
       "1            5       High/ Low       ST              7  6.166667     183  \n",
       "2            5    High/ Medium       LW             10  5.750000     150  \n",
       "3            1  Medium/ Medium       GK              1  6.333333     168  \n",
       "4            4      High/ High      RCM              7  5.083333     154  "
      ]
     },
     "execution_count": 46,
     "metadata": {},
     "output_type": "execute_result"
    }
   ],
   "source": [
    "data.head()"
   ]
  },
  {
   "cell_type": "code",
   "execution_count": 18,
   "id": "c54571cc",
   "metadata": {},
   "outputs": [
    {
     "name": "stdout",
     "output_type": "stream",
     "text": [
      "confidence interval : 78.06688808147831 78.35714018707293\n"
     ]
    }
   ],
   "source": [
    "s = data['Overall_rating'].std() \n",
    "x_bar = data['Overall_rating'].mean()\n",
    "n = len(data)\n",
    "t = stats.t.isf((1-0.95)/2, df=n-1)\n",
    "\n",
    "llimit = x_bar - t*s/n**0.5\n",
    "ulimit = x_bar + t*s/n**0.5\n",
    "\n",
    "print('confidence interval :', llimit,ulimit)"
   ]
  },
  {
   "cell_type": "markdown",
   "id": "9b3629b5",
   "metadata": {},
   "source": [
    "c)\tPerform the statistical test to identify whether preferred foot has any impact on potential. Also, perform the graphical analysis."
   ]
  },
  {
   "cell_type": "code",
   "execution_count": 19,
   "id": "ebd29304",
   "metadata": {},
   "outputs": [
    {
     "name": "stdout",
     "output_type": "stream",
     "text": [
      "ShapiroResult(statistic=0.857197642326355, pvalue=4.3527381205882577e-20)\n",
      "ShapiroResult(statistic=0.8516082167625427, pvalue=1.5380748084714233e-35)\n"
     ]
    },
    {
     "data": {
      "text/plain": [
       "Ttest_indResult(statistic=0.5491641016565159, pvalue=0.5829547938963882)"
      ]
     },
     "execution_count": 19,
     "metadata": {},
     "output_type": "execute_result"
    }
   ],
   "source": [
    "#two sample t test unpaired\n",
    "#hypothesis formation \n",
    "#H0:preffered fool=potential\n",
    "#Ha:preffered fool!=potential\n",
    "#data is normal\n",
    "left=data[data['Preferred Foot']=='Left']['Overall_rating']\n",
    "right=data[data['Preferred Foot']=='Right']['Overall_rating']\n",
    "print(stats.shapiro(left))\n",
    "print(stats.shapiro(right))\n",
    "\n",
    "stats.ttest_ind(left,right)"
   ]
  },
  {
   "cell_type": "code",
   "execution_count": 21,
   "id": "fb0f872f",
   "metadata": {
    "scrolled": true
   },
   "outputs": [
    {
     "data": {
      "text/html": [
       "<div>\n",
       "<style scoped>\n",
       "    .dataframe tbody tr th:only-of-type {\n",
       "        vertical-align: middle;\n",
       "    }\n",
       "\n",
       "    .dataframe tbody tr th {\n",
       "        vertical-align: top;\n",
       "    }\n",
       "\n",
       "    .dataframe thead th {\n",
       "        text-align: right;\n",
       "    }\n",
       "</style>\n",
       "<table border=\"1\" class=\"dataframe\">\n",
       "  <thead>\n",
       "    <tr style=\"text-align: right;\">\n",
       "      <th>Potential</th>\n",
       "      <th>75</th>\n",
       "      <th>76</th>\n",
       "      <th>77</th>\n",
       "      <th>78</th>\n",
       "      <th>79</th>\n",
       "      <th>80</th>\n",
       "      <th>81</th>\n",
       "      <th>82</th>\n",
       "      <th>83</th>\n",
       "      <th>84</th>\n",
       "      <th>...</th>\n",
       "      <th>86</th>\n",
       "      <th>87</th>\n",
       "      <th>88</th>\n",
       "      <th>89</th>\n",
       "      <th>90</th>\n",
       "      <th>91</th>\n",
       "      <th>92</th>\n",
       "      <th>93</th>\n",
       "      <th>94</th>\n",
       "      <th>95</th>\n",
       "    </tr>\n",
       "    <tr>\n",
       "      <th>Preferred Foot</th>\n",
       "      <th></th>\n",
       "      <th></th>\n",
       "      <th></th>\n",
       "      <th></th>\n",
       "      <th></th>\n",
       "      <th></th>\n",
       "      <th></th>\n",
       "      <th></th>\n",
       "      <th></th>\n",
       "      <th></th>\n",
       "      <th></th>\n",
       "      <th></th>\n",
       "      <th></th>\n",
       "      <th></th>\n",
       "      <th></th>\n",
       "      <th></th>\n",
       "      <th></th>\n",
       "      <th></th>\n",
       "      <th></th>\n",
       "      <th></th>\n",
       "      <th></th>\n",
       "    </tr>\n",
       "  </thead>\n",
       "  <tbody>\n",
       "    <tr>\n",
       "      <th>Left</th>\n",
       "      <td>57</td>\n",
       "      <td>41</td>\n",
       "      <td>40</td>\n",
       "      <td>31</td>\n",
       "      <td>34</td>\n",
       "      <td>51</td>\n",
       "      <td>32</td>\n",
       "      <td>29</td>\n",
       "      <td>30</td>\n",
       "      <td>32</td>\n",
       "      <td>...</td>\n",
       "      <td>17</td>\n",
       "      <td>16</td>\n",
       "      <td>9</td>\n",
       "      <td>13</td>\n",
       "      <td>6</td>\n",
       "      <td>1</td>\n",
       "      <td>4</td>\n",
       "      <td>0</td>\n",
       "      <td>2</td>\n",
       "      <td>0</td>\n",
       "    </tr>\n",
       "    <tr>\n",
       "      <th>Right</th>\n",
       "      <td>150</td>\n",
       "      <td>181</td>\n",
       "      <td>173</td>\n",
       "      <td>112</td>\n",
       "      <td>119</td>\n",
       "      <td>140</td>\n",
       "      <td>109</td>\n",
       "      <td>100</td>\n",
       "      <td>107</td>\n",
       "      <td>78</td>\n",
       "      <td>...</td>\n",
       "      <td>49</td>\n",
       "      <td>36</td>\n",
       "      <td>32</td>\n",
       "      <td>18</td>\n",
       "      <td>15</td>\n",
       "      <td>11</td>\n",
       "      <td>5</td>\n",
       "      <td>4</td>\n",
       "      <td>1</td>\n",
       "      <td>1</td>\n",
       "    </tr>\n",
       "  </tbody>\n",
       "</table>\n",
       "<p>2 rows × 21 columns</p>\n",
       "</div>"
      ],
      "text/plain": [
       "Potential        75   76   77   78   79   80   81   82   83  84  ...  86  87  \\\n",
       "Preferred Foot                                                   ...           \n",
       "Left             57   41   40   31   34   51   32   29   30  32  ...  17  16   \n",
       "Right           150  181  173  112  119  140  109  100  107  78  ...  49  36   \n",
       "\n",
       "Potential       88  89  90  91  92  93  94  95  \n",
       "Preferred Foot                                  \n",
       "Left             9  13   6   1   4   0   2   0  \n",
       "Right           32  18  15  11   5   4   1   1  \n",
       "\n",
       "[2 rows x 21 columns]"
      ]
     },
     "execution_count": 21,
     "metadata": {},
     "output_type": "execute_result"
    }
   ],
   "source": [
    "\n",
    "\n",
    "# Ho : independent\n",
    "# Ha : dependent\n",
    "\n",
    "sgll = 0.05\n",
    "obs = pd.crosstab(data['Preferred Foot'],data['Potential'])\n",
    "obs"
   ]
  },
  {
   "cell_type": "code",
   "execution_count": 22,
   "id": "340121f2",
   "metadata": {
    "scrolled": true
   },
   "outputs": [
    {
     "data": {
      "text/plain": [
       "(29.456907942091373,\n",
       " 0.07914467015823963,\n",
       " 20,\n",
       " array([[ 48.27561837,  51.77385159,  49.67491166,  33.34982332,\n",
       "          35.6819788 ,  44.54416961,  32.88339223,  30.08480565,\n",
       "          31.95053004,  25.65371025,  22.15547703,  15.39222615,\n",
       "          12.12720848,   9.56183746,   7.22968198,   4.8975265 ,\n",
       "           2.79858657,   2.09893993,   0.93286219,   0.69964664,\n",
       "           0.23321555],\n",
       "        [158.72438163, 170.22614841, 163.32508834, 109.65017668,\n",
       "         117.3180212 , 146.45583039, 108.11660777,  98.91519435,\n",
       "         105.04946996,  84.34628975,  72.84452297,  50.60777385,\n",
       "          39.87279152,  31.43816254,  23.77031802,  16.1024735 ,\n",
       "           9.20141343,   6.90106007,   3.06713781,   2.30035336,\n",
       "           0.76678445]]))"
      ]
     },
     "execution_count": 22,
     "metadata": {},
     "output_type": "execute_result"
    }
   ],
   "source": [
    "test_stat, pval, dof, exp = stats.chi2_contingency(obs)\n",
    "stats.chi2_contingency(obs)"
   ]
  },
  {
   "cell_type": "code",
   "execution_count": null,
   "id": "40110d88",
   "metadata": {},
   "outputs": [],
   "source": [
    "#p>sig_val\n",
    "#inf:there is no relation"
   ]
  },
  {
   "cell_type": "code",
   "execution_count": null,
   "id": "c6fab78f",
   "metadata": {},
   "outputs": [],
   "source": []
  },
  {
   "cell_type": "markdown",
   "id": "973eab0e",
   "metadata": {},
   "source": [
    "d)\tPerform the statistical test to identify the relation between the overall rating and potential. [Assume both are continuous data points]."
   ]
  },
  {
   "cell_type": "code",
   "execution_count": 48,
   "id": "13fbf3e9",
   "metadata": {},
   "outputs": [
    {
     "data": {
      "text/html": [
       "<div>\n",
       "<style scoped>\n",
       "    .dataframe tbody tr th:only-of-type {\n",
       "        vertical-align: middle;\n",
       "    }\n",
       "\n",
       "    .dataframe tbody tr th {\n",
       "        vertical-align: top;\n",
       "    }\n",
       "\n",
       "    .dataframe thead th {\n",
       "        text-align: right;\n",
       "    }\n",
       "</style>\n",
       "<table border=\"1\" class=\"dataframe\">\n",
       "  <thead>\n",
       "    <tr style=\"text-align: right;\">\n",
       "      <th></th>\n",
       "      <th>Overall_rating</th>\n",
       "      <th>Potential</th>\n",
       "    </tr>\n",
       "  </thead>\n",
       "  <tbody>\n",
       "    <tr>\n",
       "      <th>Overall_rating</th>\n",
       "      <td>1.000000</td>\n",
       "      <td>0.732086</td>\n",
       "    </tr>\n",
       "    <tr>\n",
       "      <th>Potential</th>\n",
       "      <td>0.732086</td>\n",
       "      <td>1.000000</td>\n",
       "    </tr>\n",
       "  </tbody>\n",
       "</table>\n",
       "</div>"
      ],
      "text/plain": [
       "                Overall_rating  Potential\n",
       "Overall_rating        1.000000   0.732086\n",
       "Potential             0.732086   1.000000"
      ]
     },
     "execution_count": 48,
     "metadata": {},
     "output_type": "execute_result"
    }
   ],
   "source": [
    "#PEASRSON CORRELATION\n",
    "data[['Overall_rating','Potential']].corr()"
   ]
  },
  {
   "cell_type": "code",
   "execution_count": 50,
   "id": "1dee1643",
   "metadata": {},
   "outputs": [
    {
     "data": {
      "text/plain": [
       "(0.7320858358909942, 0.0)"
      ]
     },
     "execution_count": 50,
     "metadata": {},
     "output_type": "execute_result"
    }
   ],
   "source": [
    "#h0:correlation equal to 0\n",
    "#ha:correlation not equal to 0\n",
    "#data is normal\n",
    "stats.pearsonr(data['Overall_rating'],data['Potential'])"
   ]
  },
  {
   "cell_type": "code",
   "execution_count": 51,
   "id": "f637ecec",
   "metadata": {},
   "outputs": [],
   "source": [
    "#pval=0\n",
    "#pval<sigval\n",
    "#h0 is selected\n",
    "#there is relation"
   ]
  },
  {
   "cell_type": "markdown",
   "id": "e7db4eb0",
   "metadata": {},
   "source": [
    "e)\tDoes skill move have any effect in overall rating. Perform the graphical analysis and the statistical analysis."
   ]
  },
  {
   "cell_type": "code",
   "execution_count": 52,
   "id": "49fea3ab",
   "metadata": {},
   "outputs": [
    {
     "data": {
      "text/html": [
       "<div>\n",
       "<style scoped>\n",
       "    .dataframe tbody tr th:only-of-type {\n",
       "        vertical-align: middle;\n",
       "    }\n",
       "\n",
       "    .dataframe tbody tr th {\n",
       "        vertical-align: top;\n",
       "    }\n",
       "\n",
       "    .dataframe thead th {\n",
       "        text-align: right;\n",
       "    }\n",
       "</style>\n",
       "<table border=\"1\" class=\"dataframe\">\n",
       "  <thead>\n",
       "    <tr style=\"text-align: right;\">\n",
       "      <th></th>\n",
       "      <th>Name</th>\n",
       "      <th>Age</th>\n",
       "      <th>Nationality</th>\n",
       "      <th>Overall_rating</th>\n",
       "      <th>Potential</th>\n",
       "      <th>Club</th>\n",
       "      <th>Preferred Foot</th>\n",
       "      <th>International Reputation</th>\n",
       "      <th>Weak Foot</th>\n",
       "      <th>Skill Moves</th>\n",
       "      <th>Work Rate</th>\n",
       "      <th>Position</th>\n",
       "      <th>Jersey Number</th>\n",
       "      <th>Height</th>\n",
       "      <th>Weight</th>\n",
       "    </tr>\n",
       "  </thead>\n",
       "  <tbody>\n",
       "    <tr>\n",
       "      <th>0</th>\n",
       "      <td>L. Messi</td>\n",
       "      <td>31</td>\n",
       "      <td>Argentina</td>\n",
       "      <td>94</td>\n",
       "      <td>94</td>\n",
       "      <td>FC Barcelona</td>\n",
       "      <td>Left</td>\n",
       "      <td>5</td>\n",
       "      <td>4</td>\n",
       "      <td>4</td>\n",
       "      <td>Medium/ Medium</td>\n",
       "      <td>RF</td>\n",
       "      <td>10</td>\n",
       "      <td>5.583333</td>\n",
       "      <td>159</td>\n",
       "    </tr>\n",
       "    <tr>\n",
       "      <th>1</th>\n",
       "      <td>Cristiano Ronaldo</td>\n",
       "      <td>33</td>\n",
       "      <td>Portugal</td>\n",
       "      <td>94</td>\n",
       "      <td>94</td>\n",
       "      <td>Juventus</td>\n",
       "      <td>Right</td>\n",
       "      <td>5</td>\n",
       "      <td>4</td>\n",
       "      <td>5</td>\n",
       "      <td>High/ Low</td>\n",
       "      <td>ST</td>\n",
       "      <td>7</td>\n",
       "      <td>6.166667</td>\n",
       "      <td>183</td>\n",
       "    </tr>\n",
       "    <tr>\n",
       "      <th>2</th>\n",
       "      <td>Neymar Jr</td>\n",
       "      <td>26</td>\n",
       "      <td>Brazil</td>\n",
       "      <td>92</td>\n",
       "      <td>93</td>\n",
       "      <td>Paris Saint-Germain</td>\n",
       "      <td>Right</td>\n",
       "      <td>5</td>\n",
       "      <td>5</td>\n",
       "      <td>5</td>\n",
       "      <td>High/ Medium</td>\n",
       "      <td>LW</td>\n",
       "      <td>10</td>\n",
       "      <td>5.750000</td>\n",
       "      <td>150</td>\n",
       "    </tr>\n",
       "    <tr>\n",
       "      <th>3</th>\n",
       "      <td>De Gea</td>\n",
       "      <td>27</td>\n",
       "      <td>Spain</td>\n",
       "      <td>91</td>\n",
       "      <td>93</td>\n",
       "      <td>Manchester United</td>\n",
       "      <td>Right</td>\n",
       "      <td>4</td>\n",
       "      <td>3</td>\n",
       "      <td>1</td>\n",
       "      <td>Medium/ Medium</td>\n",
       "      <td>GK</td>\n",
       "      <td>1</td>\n",
       "      <td>6.333333</td>\n",
       "      <td>168</td>\n",
       "    </tr>\n",
       "    <tr>\n",
       "      <th>4</th>\n",
       "      <td>K. De Bruyne</td>\n",
       "      <td>27</td>\n",
       "      <td>Belgium</td>\n",
       "      <td>91</td>\n",
       "      <td>92</td>\n",
       "      <td>Manchester City</td>\n",
       "      <td>Right</td>\n",
       "      <td>4</td>\n",
       "      <td>5</td>\n",
       "      <td>4</td>\n",
       "      <td>High/ High</td>\n",
       "      <td>RCM</td>\n",
       "      <td>7</td>\n",
       "      <td>5.083333</td>\n",
       "      <td>154</td>\n",
       "    </tr>\n",
       "  </tbody>\n",
       "</table>\n",
       "</div>"
      ],
      "text/plain": [
       "                Name  Age Nationality  Overall_rating  Potential  \\\n",
       "0           L. Messi   31   Argentina              94         94   \n",
       "1  Cristiano Ronaldo   33    Portugal              94         94   \n",
       "2          Neymar Jr   26      Brazil              92         93   \n",
       "3             De Gea   27       Spain              91         93   \n",
       "4       K. De Bruyne   27     Belgium              91         92   \n",
       "\n",
       "                  Club Preferred Foot  International Reputation  Weak Foot  \\\n",
       "0         FC Barcelona           Left                         5          4   \n",
       "1             Juventus          Right                         5          4   \n",
       "2  Paris Saint-Germain          Right                         5          5   \n",
       "3    Manchester United          Right                         4          3   \n",
       "4      Manchester City          Right                         4          5   \n",
       "\n",
       "   Skill Moves       Work Rate Position  Jersey Number    Height  Weight  \n",
       "0            4  Medium/ Medium       RF             10  5.583333     159  \n",
       "1            5       High/ Low       ST              7  6.166667     183  \n",
       "2            5    High/ Medium       LW             10  5.750000     150  \n",
       "3            1  Medium/ Medium       GK              1  6.333333     168  \n",
       "4            4      High/ High      RCM              7  5.083333     154  "
      ]
     },
     "execution_count": 52,
     "metadata": {},
     "output_type": "execute_result"
    }
   ],
   "source": [
    "data.head()"
   ]
  },
  {
   "cell_type": "code",
   "execution_count": 24,
   "id": "f2fd3af9",
   "metadata": {},
   "outputs": [
    {
     "data": {
      "text/html": [
       "<div>\n",
       "<style scoped>\n",
       "    .dataframe tbody tr th:only-of-type {\n",
       "        vertical-align: middle;\n",
       "    }\n",
       "\n",
       "    .dataframe tbody tr th {\n",
       "        vertical-align: top;\n",
       "    }\n",
       "\n",
       "    .dataframe thead th {\n",
       "        text-align: right;\n",
       "    }\n",
       "</style>\n",
       "<table border=\"1\" class=\"dataframe\">\n",
       "  <thead>\n",
       "    <tr style=\"text-align: right;\">\n",
       "      <th></th>\n",
       "      <th>Overall_rating</th>\n",
       "      <th>Skill Moves</th>\n",
       "    </tr>\n",
       "  </thead>\n",
       "  <tbody>\n",
       "    <tr>\n",
       "      <th>Overall_rating</th>\n",
       "      <td>1.000000</td>\n",
       "      <td>0.083036</td>\n",
       "    </tr>\n",
       "    <tr>\n",
       "      <th>Skill Moves</th>\n",
       "      <td>0.083036</td>\n",
       "      <td>1.000000</td>\n",
       "    </tr>\n",
       "  </tbody>\n",
       "</table>\n",
       "</div>"
      ],
      "text/plain": [
       "                Overall_rating  Skill Moves\n",
       "Overall_rating        1.000000     0.083036\n",
       "Skill Moves           0.083036     1.000000"
      ]
     },
     "execution_count": 24,
     "metadata": {},
     "output_type": "execute_result"
    }
   ],
   "source": [
    "\n",
    "# Ho : independent \n",
    "# Ha : dependent\n",
    "\n",
    "data[['Overall_rating','Skill Moves']].corr()"
   ]
  },
  {
   "cell_type": "code",
   "execution_count": 54,
   "id": "7cbeca5d",
   "metadata": {},
   "outputs": [
    {
     "data": {
      "text/plain": [
       "(0.08303643058332785, 0.00021570230856720446)"
      ]
     },
     "execution_count": 54,
     "metadata": {},
     "output_type": "execute_result"
    }
   ],
   "source": [
    "#h0:correlation equal to 0\n",
    "#ha:correlation not equal to 0\n",
    "#data is normal\n",
    "stats.pearsonr(data['Overall_rating'],data['Skill Moves'])"
   ]
  },
  {
   "cell_type": "code",
   "execution_count": 25,
   "id": "13240109",
   "metadata": {},
   "outputs": [],
   "source": [
    "obs = pd.crosstab(data['Skill Moves'],data['Overall_rating'])\n"
   ]
  },
  {
   "cell_type": "code",
   "execution_count": 26,
   "id": "2b83ca0b",
   "metadata": {},
   "outputs": [
    {
     "data": {
      "text/plain": [
       "(262.7330450892917,\n",
       " 1.6366088370930575e-23,\n",
       " 72,\n",
       " array([[4.08036345e+01, 3.59575972e+01, 2.90762241e+01, 1.61857648e+01,\n",
       "         1.63796063e+01, 1.36658253e+01, 9.01362948e+00, 9.11055023e+00,\n",
       "         6.78445230e+00, 4.36143362e+00, 3.19838465e+00, 2.13225644e+00,\n",
       "         1.25996971e+00, 1.64765270e+00, 1.06612822e+00, 4.84603735e-01,\n",
       "         5.81524483e-01, 9.69207471e-02, 1.93841494e-01],\n",
       "        [8.33074205e+01, 7.34134276e+01, 5.93639576e+01, 3.30459364e+01,\n",
       "         3.34416961e+01, 2.79010601e+01, 1.84028269e+01, 1.86007067e+01,\n",
       "         1.38515901e+01, 8.90459364e+00, 6.53003534e+00, 4.35335689e+00,\n",
       "         2.57243816e+00, 3.36395760e+00, 2.17667845e+00, 9.89399293e-01,\n",
       "         1.18727915e+00, 1.97879859e-01, 3.95759717e-01],\n",
       "        [1.73840485e+02, 1.53194346e+02, 1.23876830e+02, 6.89581020e+01,\n",
       "         6.97839475e+01, 5.82221100e+01, 3.84018173e+01, 3.88147400e+01,\n",
       "         2.89045936e+01, 1.85815245e+01, 1.36264513e+01, 9.08430086e+00,\n",
       "         5.36799596e+00, 7.01968703e+00, 4.54215043e+00, 2.06461383e+00,\n",
       "         2.47753660e+00, 4.12922766e-01, 8.25845533e-01],\n",
       "        [1.14760222e+02, 1.01130742e+02, 8.17768804e+01, 4.55224634e+01,\n",
       "         4.60676426e+01, 3.84351338e+01, 2.53508329e+01, 2.56234225e+01,\n",
       "         1.90812721e+01, 1.22665321e+01, 8.99545684e+00, 5.99697123e+00,\n",
       "         3.54366482e+00, 4.63402322e+00, 2.99848561e+00, 1.36294801e+00,\n",
       "         1.63553761e+00, 2.72589601e-01, 5.45179202e-01],\n",
       "        [8.28823826e+00, 7.30388693e+00, 5.90610803e+00, 3.28773347e+00,\n",
       "         3.32710752e+00, 2.77587077e+00, 1.83089349e+00, 1.85058051e+00,\n",
       "         1.37809187e+00, 8.85916204e-01, 6.49671883e-01, 4.33114589e-01,\n",
       "         2.55931348e-01, 3.34679455e-01, 2.16557294e-01, 9.84351338e-02,\n",
       "         1.18122161e-01, 1.96870268e-02, 3.93740535e-02]]))"
      ]
     },
     "execution_count": 26,
     "metadata": {},
     "output_type": "execute_result"
    }
   ],
   "source": [
    "test_stat, pval, dof, exp = stats.chi2_contingency(obs)\n",
    "stats.chi2_contingency(obs)"
   ]
  },
  {
   "cell_type": "code",
   "execution_count": 27,
   "id": "19982b0a",
   "metadata": {},
   "outputs": [],
   "source": [
    "#pval=0\n",
    "#pval<sigval\n",
    "#h0 is selected\n",
    "#there is relation"
   ]
  },
  {
   "cell_type": "code",
   "execution_count": 56,
   "id": "99db170e",
   "metadata": {},
   "outputs": [
    {
     "name": "stderr",
     "output_type": "stream",
     "text": [
      "C:\\Softwares\\lib\\site-packages\\seaborn\\_decorators.py:36: FutureWarning: Pass the following variables as keyword args: x, y. From version 0.12, the only valid positional argument will be `data`, and passing other arguments without an explicit keyword will result in an error or misinterpretation.\n",
      "  warnings.warn(\n"
     ]
    },
    {
     "data": {
      "text/plain": [
       "<AxesSubplot:xlabel='Overall_rating', ylabel='Skill Moves'>"
      ]
     },
     "execution_count": 56,
     "metadata": {},
     "output_type": "execute_result"
    },
    {
     "data": {
      "image/png": "[encoded data removed]",
      "text/plain": [
       "<Figure size 432x288 with 1 Axes>"
      ]
     },
     "metadata": {
      "needs_background": "light"
     },
     "output_type": "display_data"
    }
   ],
   "source": [
    "#graphical analysis\n",
    "\n",
    "sb.boxplot(data['Overall_rating'],data['Skill Moves'])"
   ]
  },
  {
   "cell_type": "markdown",
   "id": "85e10239",
   "metadata": {},
   "source": [
    "2. Perform the following statistical analysis on the mobile network dataset given. The given data set contains information about the internet, calls, messages of various network. Data Cleaning and basic EDA process needs to be performed. "
   ]
  },
  {
   "cell_type": "code",
   "execution_count": 30,
   "id": "cd1fc1e3",
   "metadata": {},
   "outputs": [
    {
     "data": {
      "text/html": [
       "<div>\n",
       "<style scoped>\n",
       "    .dataframe tbody tr th:only-of-type {\n",
       "        vertical-align: middle;\n",
       "    }\n",
       "\n",
       "    .dataframe tbody tr th {\n",
       "        vertical-align: top;\n",
       "    }\n",
       "\n",
       "    .dataframe thead th {\n",
       "        text-align: right;\n",
       "    }\n",
       "</style>\n",
       "<table border=\"1\" class=\"dataframe\">\n",
       "  <thead>\n",
       "    <tr style=\"text-align: right;\">\n",
       "      <th></th>\n",
       "      <th>date</th>\n",
       "      <th>duration</th>\n",
       "      <th>item</th>\n",
       "      <th>month</th>\n",
       "      <th>network</th>\n",
       "      <th>network_type</th>\n",
       "    </tr>\n",
       "  </thead>\n",
       "  <tbody>\n",
       "    <tr>\n",
       "      <th>0</th>\n",
       "      <td>15-10-14 6:58</td>\n",
       "      <td>221.321120</td>\n",
       "      <td>data</td>\n",
       "      <td>2014-11</td>\n",
       "      <td>data</td>\n",
       "      <td>data</td>\n",
       "    </tr>\n",
       "    <tr>\n",
       "      <th>1</th>\n",
       "      <td>15-10-14 6:58</td>\n",
       "      <td>81.610599</td>\n",
       "      <td>call</td>\n",
       "      <td>2014-11</td>\n",
       "      <td>Vodafone</td>\n",
       "      <td>mobile</td>\n",
       "    </tr>\n",
       "    <tr>\n",
       "      <th>2</th>\n",
       "      <td>15-10-14 14:46</td>\n",
       "      <td>143.109111</td>\n",
       "      <td>call</td>\n",
       "      <td>2014-11</td>\n",
       "      <td>Meteor</td>\n",
       "      <td>mobile</td>\n",
       "    </tr>\n",
       "    <tr>\n",
       "      <th>3</th>\n",
       "      <td>15-10-14 14:48</td>\n",
       "      <td>111.888670</td>\n",
       "      <td>call</td>\n",
       "      <td>2014-11</td>\n",
       "      <td>Tesco</td>\n",
       "      <td>mobile</td>\n",
       "    </tr>\n",
       "    <tr>\n",
       "      <th>4</th>\n",
       "      <td>15-10-14 17:27</td>\n",
       "      <td>246.695171</td>\n",
       "      <td>call</td>\n",
       "      <td>2014-11</td>\n",
       "      <td>Tesco</td>\n",
       "      <td>mobile</td>\n",
       "    </tr>\n",
       "  </tbody>\n",
       "</table>\n",
       "</div>"
      ],
      "text/plain": [
       "             date    duration  item    month   network network_type\n",
       "0   15-10-14 6:58  221.321120  data  2014-11      data         data\n",
       "1   15-10-14 6:58   81.610599  call  2014-11  Vodafone       mobile\n",
       "2  15-10-14 14:46  143.109111  call  2014-11    Meteor       mobile\n",
       "3  15-10-14 14:48  111.888670  call  2014-11     Tesco       mobile\n",
       "4  15-10-14 17:27  246.695171  call  2014-11     Tesco       mobile"
      ]
     },
     "execution_count": 30,
     "metadata": {},
     "output_type": "execute_result"
    }
   ],
   "source": [
    "#importing datasets\n",
    "df=pd.read_csv('phone.csv')\n",
    "df.head()"
   ]
  },
  {
   "cell_type": "code",
   "execution_count": 31,
   "id": "6f03f912",
   "metadata": {},
   "outputs": [],
   "source": [
    "df_num=df.select_dtypes(include=np.number)"
   ]
  },
  {
   "cell_type": "code",
   "execution_count": 32,
   "id": "75abbbf2",
   "metadata": {},
   "outputs": [
    {
     "name": "stdout",
     "output_type": "stream",
     "text": [
      "the number of outliers in duration is 3\n"
     ]
    }
   ],
   "source": [
    "for i in df_num.columns:\n",
    "    iqr=df_num[i].quantile(0.75)-df_num[i].quantile(0.25)\n",
    "    ##print(\"inter_quartile_range is\")\n",
    "    upper_bound=df_num[i].quantile(0.75)+1.5*iqr\n",
    "    lower_bound=df_num[i].quantile(0.25)-1.5*iqr\n",
    "    ##print(\"ub is:\",upper_bound)\n",
    "    ##print(\"lb is:\",lower_bound)\n",
    "    print(\"the number of outliers in\",i,\"is\",len(df_num[((df_num[i]>upper_bound) |(df_num[i]<lower_bound))]))"
   ]
  },
  {
   "cell_type": "code",
   "execution_count": 33,
   "id": "02f7c178",
   "metadata": {},
   "outputs": [
    {
     "name": "stderr",
     "output_type": "stream",
     "text": [
      "C:\\Users\\G Jaya Surya\\anaconda3\\lib\\site-packages\\pandas\\core\\indexing.py:670: SettingWithCopyWarning: \n",
      "A value is trying to be set on a copy of a slice from a DataFrame\n",
      "\n",
      "See the caveats in the documentation: https://pandas.pydata.org/pandas-docs/stable/user_guide/indexing.html#returning-a-view-versus-a-copy\n",
      "  iloc._setitem_with_indexer(indexer, value)\n",
      "<ipython-input-33-79f49078db83>:11: SettingWithCopyWarning: \n",
      "A value is trying to be set on a copy of a slice from a DataFrame\n",
      "\n",
      "See the caveats in the documentation: https://pandas.pydata.org/pandas-docs/stable/user_guide/indexing.html#returning-a-view-versus-a-copy\n",
      "  df_num.loc[j,i]=lc\n"
     ]
    }
   ],
   "source": [
    "for i in df_num.columns:\n",
    "    iqr=df_num[i].quantile(0.75)-df_num[i].quantile(0.25)\n",
    "    upper_bound=df_num[i].quantile(0.75)+1.5*iqr\n",
    "    lower_bound=df_num[i].quantile(0.25)-1.5*iqr\n",
    "    uc=df_num[i].quantile(0.99)\n",
    "    lc=df_num[i].quantile(0.1)\n",
    "    for j in df_num[i].index:\n",
    "        if df_num.loc[j,i]>upper_bound:    ## use to remove outliers\n",
    "            df_num.loc[j,i]=uc\n",
    "        if df_num.loc[j,i]<lower_bound:\n",
    "            df_num.loc[j,i]=lc"
   ]
  },
  {
   "cell_type": "code",
   "execution_count": 34,
   "id": "c53f78ef",
   "metadata": {},
   "outputs": [
    {
     "name": "stderr",
     "output_type": "stream",
     "text": [
      "C:\\Users\\G Jaya Surya\\anaconda3\\lib\\site-packages\\seaborn\\_decorators.py:36: FutureWarning: Pass the following variable as a keyword arg: x. From version 0.12, the only valid positional argument will be `data`, and passing other arguments without an explicit keyword will result in an error or misinterpretation.\n",
      "  warnings.warn(\n"
     ]
    },
    {
     "data": {
      "image/png": "[encoded data removed]",
      "text/plain": [
       "<Figure size 432x288 with 1 Axes>"
      ]
     },
     "metadata": {
      "needs_background": "light"
     },
     "output_type": "display_data"
    }
   ],
   "source": [
    "for i in df_num.columns:\n",
    "    sb.boxplot(df_num[i])\n",
    "    plt.show()"
   ]
  },
  {
   "cell_type": "code",
   "execution_count": 35,
   "id": "3835097a",
   "metadata": {},
   "outputs": [
    {
     "data": {
      "text/plain": [
       "date             object\n",
       "duration        float64\n",
       "item             object\n",
       "month            object\n",
       "network          object\n",
       "network_type     object\n",
       "dtype: object"
      ]
     },
     "execution_count": 35,
     "metadata": {},
     "output_type": "execute_result"
    }
   ],
   "source": [
    "df.dtypes"
   ]
  },
  {
   "cell_type": "code",
   "execution_count": 36,
   "id": "9f21fda6",
   "metadata": {},
   "outputs": [
    {
     "data": {
      "text/plain": [
       "date            datetime64[ns]\n",
       "duration               float64\n",
       "item                    object\n",
       "month                   object\n",
       "network                 object\n",
       "network_type            object\n",
       "dtype: object"
      ]
     },
     "execution_count": 36,
     "metadata": {},
     "output_type": "execute_result"
    }
   ],
   "source": [
    "df['date']=pd.to_datetime(df['date'])\n",
    "df.dtypes"
   ]
  },
  {
   "cell_type": "markdown",
   "id": "a8fb71e9",
   "metadata": {},
   "source": [
    "a)With 95% & 99% Confidence Interval find the range estimate of average duration calls made by all the network. Which of the Intervals are wider? Interpret the results."
   ]
  },
  {
   "cell_type": "code",
   "execution_count": 44,
   "id": "4259b3a7",
   "metadata": {},
   "outputs": [],
   "source": [
    "x_bar = df['duration'].mean()\n",
    "s = df['duration'].std()\n",
    "n = len(data)\n",
    "conf = 0.95\n"
   ]
  },
  {
   "cell_type": "code",
   "execution_count": 45,
   "id": "94fbabb5",
   "metadata": {},
   "outputs": [
    {
     "name": "stdout",
     "output_type": "stream",
     "text": [
      "95% : 142.29180732714872 146.3180637925222\n"
     ]
    }
   ],
   "source": [
    "t = stats.t.isf((0.025), df=n-1)\n",
    "llimit = x_bar - t*s/n**0.5\n",
    "ulimit = x_bar + t*s/n**0.5\n",
    "\n",
    "print('95% :', llimit,ulimit)"
   ]
  },
  {
   "cell_type": "code",
   "execution_count": 46,
   "id": "a56be2b7",
   "metadata": {},
   "outputs": [
    {
     "name": "stdout",
     "output_type": "stream",
     "text": [
      "99% : 141.65830266191404 146.95156845775688\n"
     ]
    }
   ],
   "source": [
    "t = stats.t.isf((0.005), df=n-1)\n",
    "llimit = x_bar - t*s/n**0.5\n",
    "ulimit = x_bar + t*s/n**0.5\n",
    "\n",
    "print('99% :', llimit,ulimit)"
   ]
  },
  {
   "cell_type": "code",
   "execution_count": null,
   "id": "974bf63f",
   "metadata": {},
   "outputs": [],
   "source": []
  },
  {
   "cell_type": "markdown",
   "id": "7f4af3d6",
   "metadata": {},
   "source": [
    "b) Perform statistical analysis to check whether the networks are equally distributed in the dataset"
   ]
  },
  {
   "cell_type": "code",
   "execution_count": 71,
   "id": "74a1232f",
   "metadata": {},
   "outputs": [
    {
     "data": {
      "text/plain": [
       "Vodafone     215\n",
       "Three        215\n",
       "data         150\n",
       "Meteor        87\n",
       "Tesco         84\n",
       "landline      42\n",
       "voicemail     27\n",
       "Name: network, dtype: int64"
      ]
     },
     "execution_count": 71,
     "metadata": {},
     "output_type": "execute_result"
    }
   ],
   "source": [
    "df['network'].value_counts()"
   ]
  },
  {
   "cell_type": "code",
   "execution_count": 86,
   "id": "6b075ff9",
   "metadata": {},
   "outputs": [
    {
     "data": {
      "text/html": [
       "<div>\n",
       "<style scoped>\n",
       "    .dataframe tbody tr th:only-of-type {\n",
       "        vertical-align: middle;\n",
       "    }\n",
       "\n",
       "    .dataframe tbody tr th {\n",
       "        vertical-align: top;\n",
       "    }\n",
       "\n",
       "    .dataframe thead th {\n",
       "        text-align: right;\n",
       "    }\n",
       "</style>\n",
       "<table border=\"1\" class=\"dataframe\">\n",
       "  <thead>\n",
       "    <tr style=\"text-align: right;\">\n",
       "      <th></th>\n",
       "      <th>date</th>\n",
       "      <th>duration</th>\n",
       "      <th>item</th>\n",
       "      <th>month</th>\n",
       "      <th>network</th>\n",
       "      <th>network_type</th>\n",
       "    </tr>\n",
       "  </thead>\n",
       "  <tbody>\n",
       "    <tr>\n",
       "      <th>0</th>\n",
       "      <td>2014-10-15 06:58:00</td>\n",
       "      <td>221.321120</td>\n",
       "      <td>data</td>\n",
       "      <td>2014-11</td>\n",
       "      <td>data</td>\n",
       "      <td>data</td>\n",
       "    </tr>\n",
       "    <tr>\n",
       "      <th>1</th>\n",
       "      <td>2014-10-15 06:58:00</td>\n",
       "      <td>81.610599</td>\n",
       "      <td>call</td>\n",
       "      <td>2014-11</td>\n",
       "      <td>Vodafone</td>\n",
       "      <td>mobile</td>\n",
       "    </tr>\n",
       "    <tr>\n",
       "      <th>2</th>\n",
       "      <td>2014-10-15 14:46:00</td>\n",
       "      <td>143.109111</td>\n",
       "      <td>call</td>\n",
       "      <td>2014-11</td>\n",
       "      <td>Meteor</td>\n",
       "      <td>mobile</td>\n",
       "    </tr>\n",
       "    <tr>\n",
       "      <th>3</th>\n",
       "      <td>2014-10-15 14:48:00</td>\n",
       "      <td>111.888670</td>\n",
       "      <td>call</td>\n",
       "      <td>2014-11</td>\n",
       "      <td>Tesco</td>\n",
       "      <td>mobile</td>\n",
       "    </tr>\n",
       "    <tr>\n",
       "      <th>4</th>\n",
       "      <td>2014-10-15 17:27:00</td>\n",
       "      <td>246.695171</td>\n",
       "      <td>call</td>\n",
       "      <td>2014-11</td>\n",
       "      <td>Tesco</td>\n",
       "      <td>mobile</td>\n",
       "    </tr>\n",
       "  </tbody>\n",
       "</table>\n",
       "</div>"
      ],
      "text/plain": [
       "                 date    duration  item    month   network network_type\n",
       "0 2014-10-15 06:58:00  221.321120  data  2014-11      data         data\n",
       "1 2014-10-15 06:58:00   81.610599  call  2014-11  Vodafone       mobile\n",
       "2 2014-10-15 14:46:00  143.109111  call  2014-11    Meteor       mobile\n",
       "3 2014-10-15 14:48:00  111.888670  call  2014-11     Tesco       mobile\n",
       "4 2014-10-15 17:27:00  246.695171  call  2014-11     Tesco       mobile"
      ]
     },
     "execution_count": 86,
     "metadata": {},
     "output_type": "execute_result"
    }
   ],
   "source": [
    "df.head()"
   ]
  },
  {
   "cell_type": "markdown",
   "id": "9bb47c31",
   "metadata": {},
   "source": [
    "c) Plot the distribution of duration with respect to each network in the same graph and Interpret the results from the graph."
   ]
  },
  {
   "cell_type": "code",
   "execution_count": 73,
   "id": "d45d9511",
   "metadata": {},
   "outputs": [],
   "source": [
    "vod=df[df['network']=='Vodafone']['duration']\n",
    "three=df[df['network']=='Three']['duration']\n",
    "data=df[df['network']=='three']['duration']\n",
    "Meteor=df[df['network']=='Meteor']['duration']\n",
    "Tesco=df[df['network']=='Tesco']['duration']\n",
    "landline=df[df['network']=='landline']['duration']\n",
    "voicemail=df[df['network']=='voicemail']['duration']\n"
   ]
  },
  {
   "cell_type": "code",
   "execution_count": 76,
   "id": "fa0ee178",
   "metadata": {},
   "outputs": [
    {
     "name": "stderr",
     "output_type": "stream",
     "text": [
      "C:\\Softwares\\lib\\site-packages\\seaborn\\distributions.py:2557: FutureWarning: `distplot` is a deprecated function and will be removed in a future version. Please adapt your code to use either `displot` (a figure-level function with similar flexibility) or `histplot` (an axes-level function for histograms).\n",
      "  warnings.warn(msg, FutureWarning)\n",
      "C:\\Softwares\\lib\\site-packages\\seaborn\\distributions.py:2557: FutureWarning: `distplot` is a deprecated function and will be removed in a future version. Please adapt your code to use either `displot` (a figure-level function with similar flexibility) or `histplot` (an axes-level function for histograms).\n",
      "  warnings.warn(msg, FutureWarning)\n",
      "C:\\Softwares\\lib\\site-packages\\seaborn\\distributions.py:2595: RuntimeWarning: Mean of empty slice.\n",
      "  line, = ax.plot(a.mean(), 0)\n",
      "C:\\Softwares\\lib\\site-packages\\numpy\\core\\_methods.py:188: RuntimeWarning: invalid value encountered in double_scalars\n",
      "  ret = ret.dtype.type(ret / rcount)\n",
      "C:\\Softwares\\lib\\site-packages\\numpy\\lib\\histograms.py:905: RuntimeWarning: invalid value encountered in true_divide\n",
      "  return n/db/n.sum(), bin_edges\n",
      "C:\\Softwares\\lib\\site-packages\\seaborn\\distributions.py:2557: FutureWarning: `distplot` is a deprecated function and will be removed in a future version. Please adapt your code to use either `displot` (a figure-level function with similar flexibility) or `histplot` (an axes-level function for histograms).\n",
      "  warnings.warn(msg, FutureWarning)\n",
      "C:\\Softwares\\lib\\site-packages\\seaborn\\distributions.py:2557: FutureWarning: `distplot` is a deprecated function and will be removed in a future version. Please adapt your code to use either `displot` (a figure-level function with similar flexibility) or `histplot` (an axes-level function for histograms).\n",
      "  warnings.warn(msg, FutureWarning)\n",
      "C:\\Softwares\\lib\\site-packages\\seaborn\\distributions.py:2557: FutureWarning: `distplot` is a deprecated function and will be removed in a future version. Please adapt your code to use either `displot` (a figure-level function with similar flexibility) or `histplot` (an axes-level function for histograms).\n",
      "  warnings.warn(msg, FutureWarning)\n"
     ]
    },
    {
     "data": {
      "text/plain": [
       "<AxesSubplot:xlabel='duration', ylabel='Density'>"
      ]
     },
     "execution_count": 76,
     "metadata": {},
     "output_type": "execute_result"
    },
    {
     "data": {
      "image/png": "[encoded data removed]",
      "text/plain": [
       "<Figure size 432x288 with 1 Axes>"
      ]
     },
     "metadata": {
      "needs_background": "light"
     },
     "output_type": "display_data"
    }
   ],
   "source": [
    "sb.distplot(vod)\n",
    "sb.distplot(three)\n",
    "sb.distplot(data)\n",
    "sb.distplot(Meteor)\n",
    "sb.distplot(Tesco)\n",
    "sb.distplot(landline)\n",
    "sb.distplot(voicemail)"
   ]
  },
  {
   "cell_type": "code",
   "execution_count": null,
   "id": "b8f980ab",
   "metadata": {},
   "outputs": [],
   "source": [
    "#inference:all the duration with respect networks are same ."
   ]
  },
  {
   "cell_type": "markdown",
   "id": "5bf15e83",
   "metadata": {},
   "source": [
    "d)Perform statistical tests to identify the relation between item and duration. Detailed "
   ]
  },
  {
   "cell_type": "code",
   "execution_count": 77,
   "id": "2463019e",
   "metadata": {},
   "outputs": [
    {
     "data": {
      "text/plain": [
       "call    388\n",
       "sms     282\n",
       "data    150\n",
       "Name: item, dtype: int64"
      ]
     },
     "execution_count": 77,
     "metadata": {},
     "output_type": "execute_result"
    }
   ],
   "source": [
    "df['item'].value_counts()"
   ]
  },
  {
   "cell_type": "code",
   "execution_count": 78,
   "id": "0c3e1f16",
   "metadata": {},
   "outputs": [],
   "source": [
    "call=df[df['item']=='call']['duration']\n",
    "sms=df[df['item']=='sms']['duration']\n",
    "data=df[df['item']=='data']['duration']"
   ]
  },
  {
   "cell_type": "code",
   "execution_count": 80,
   "id": "fe02794b",
   "metadata": {},
   "outputs": [
    {
     "name": "stdout",
     "output_type": "stream",
     "text": [
      "ShapiroResult(statistic=0.9973042011260986, pvalue=0.7803382277488708)\n",
      "ShapiroResult(statistic=0.9943404197692871, pvalue=0.37839275598526)\n",
      "ShapiroResult(statistic=0.9912639856338501, pvalue=0.48521795868873596)\n"
     ]
    }
   ],
   "source": [
    "#to test the normality of data\n",
    "print(stats.shapiro(call))\n",
    "print(stats.shapiro(sms))\n",
    "print(stats.shapiro(data))"
   ]
  },
  {
   "cell_type": "code",
   "execution_count": null,
   "id": "44c7700c",
   "metadata": {},
   "outputs": [],
   "source": [
    "#pvalue>0.05\n",
    "#data is normal"
   ]
  },
  {
   "cell_type": "code",
   "execution_count": null,
   "id": "513620d0",
   "metadata": {},
   "outputs": [],
   "source": [
    "#test of equality of variance\n",
    "#H0:all variance are equal\n",
    "#Ha:atleast one variance is different"
   ]
  },
  {
   "cell_type": "code",
   "execution_count": 83,
   "id": "40f8b023",
   "metadata": {},
   "outputs": [
    {
     "data": {
      "text/plain": [
       "LeveneResult(statistic=3.4300976447008478, pvalue=0.03285087780533987)"
      ]
     },
     "execution_count": 83,
     "metadata": {},
     "output_type": "execute_result"
    }
   ],
   "source": [
    "stats.levene(call,sms,data)"
   ]
  },
  {
   "cell_type": "code",
   "execution_count": null,
   "id": "2ce72df2",
   "metadata": {},
   "outputs": [],
   "source": [
    "#pval=0.032\n",
    "#sig_lvl=0.05\n",
    "#all variance are equal\n",
    "#data is normal\n",
    "#have equal variance"
   ]
  },
  {
   "cell_type": "code",
   "execution_count": 81,
   "id": "faf72e85",
   "metadata": {},
   "outputs": [
    {
     "data": {
      "text/plain": [
       "F_onewayResult(statistic=1.9313964906864995, pvalue=0.1456068656611744)"
      ]
     },
     "execution_count": 81,
     "metadata": {},
     "output_type": "execute_result"
    }
   ],
   "source": [
    "stats.f_oneway(call,sms,data)"
   ]
  },
  {
   "cell_type": "code",
   "execution_count": null,
   "id": "8f5c43f9",
   "metadata": {},
   "outputs": [],
   "source": [
    "#pval=0.14\n",
    "#sig_val=0.05\n",
    "#pval>sig_val\n",
    "#H0 is selected\n",
    "#the relationship between item and duration are same"
   ]
  },
  {
   "cell_type": "markdown",
   "id": "727e47c3",
   "metadata": {},
   "source": [
    "e)Perform statistical tests to identify the relation between network and network_type. \n"
   ]
  },
  {
   "cell_type": "code",
   "execution_count": 84,
   "id": "01153f2a",
   "metadata": {},
   "outputs": [],
   "source": [
    "#Ho:network and network_type are independent\n",
    "#Ha:network and network_type are dependent\n",
    "\n",
    "\n",
    "obs=pd.crosstab(df['network'],df['network_type'])"
   ]
  },
  {
   "cell_type": "code",
   "execution_count": 85,
   "id": "544bd342",
   "metadata": {},
   "outputs": [
    {
     "name": "stdout",
     "output_type": "stream",
     "text": [
      "test_val: 2460.0\n",
      "pvalues is: 0.0\n",
      "dof 18\n",
      "expected: [[ 15.91463415   4.45609756  63.76463415   2.86463415]\n",
      " [ 15.36585366   4.30243902  61.56585366   2.76585366]\n",
      " [ 39.32926829  11.01219512 157.57926829   7.07926829]\n",
      " [ 39.32926829  11.01219512 157.57926829   7.07926829]\n",
      " [ 27.43902439   7.68292683 109.93902439   4.93902439]\n",
      " [  7.68292683   2.15121951  30.78292683   1.38292683]\n",
      " [  4.93902439   1.38292683  19.78902439   0.88902439]]\n"
     ]
    }
   ],
   "source": [
    "test_stat,pval,dof,exp=stats.chi2_contingency(obs)\n",
    "print(\"test_val:\",test_stat)\n",
    "print(\"pvalues is:\",pval)\n",
    "print(\"dof\",dof)\n",
    "print(\"expected:\",exp)"
   ]
  },
  {
   "cell_type": "code",
   "execution_count": null,
   "id": "84f5f352",
   "metadata": {},
   "outputs": [],
   "source": [
    "#pavl=0\n",
    "#sig_val=0.05\n",
    "#pval<sig_val\n",
    "#ha is selected\n",
    "#they are dependent"
   ]
  }
 ],
 "metadata": {
  "kernelspec": {
   "display_name": "Python 3",
   "language": "python",
   "name": "python3"
  },
  "language_info": {
   "codemirror_mode": {
    "name": "ipython",
    "version": 3
   },
   "file_extension": ".py",
   "mimetype": "text/x-python",
   "name": "python",
   "nbconvert_exporter": "python",
   "pygments_lexer": "ipython3",
   "version": "3.8.8"
  }
 },
 "nbformat": 4,
 "nbformat_minor": 5
}
